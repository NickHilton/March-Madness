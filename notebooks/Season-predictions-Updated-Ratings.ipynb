{
 "cells": [
  {
   "cell_type": "code",
   "execution_count": null,
   "metadata": {},
   "outputs": [],
   "source": [
    "import sys\n",
    "sys.path.append('../')\n",
    "import os\n",
    "\n",
    "# Env vars for Men / Women's tournament\n",
    "os.environ['DATABASE_URL'] = DATABASE_URL = 'sqlite:////Users/nickhilton/kaggle/march_madness/databases/turtle.db'\n",
    "DATABASE = os.environ['DATABASE_URL'].split('sqlite:///')[1]\n",
    "\n",
    "DATA_PATH = f\"/Users/nickhilton/kaggle/march_madness/data_male/M\"\n",
    "\n",
    "from models import Seed, engine, Team, Match, MatchPredictions, SEASON\n",
    "from elo_run.response_function import home_response, away_response, neutral_response\n",
    "from elo_run.param_tuning import run_system, set_up_elo_model, link_function_list\n",
    "\n",
    "import pandas as pd\n",
    "from typing import Dict, Set\n",
    "\n",
    "from collections import defaultdict\n",
    "\n",
    "from sqlalchemy.orm import sessionmaker\n",
    "from sqlalchemy import *\n",
    "\n",
    "Session = sessionmaker(bind=engine)\n",
    "\n",
    "session = Session()"
   ]
  },
  {
   "cell_type": "code",
   "execution_count": null,
   "metadata": {},
   "outputs": [],
   "source": []
  },
  {
   "cell_type": "code",
   "execution_count": 2,
   "metadata": {},
   "outputs": [],
   "source": [
    "# Define a system, and get match predictions\n",
    "k = 80\n",
    "seed = -70\n",
    "link = 'N'\n",
    "link_function = link_function_list[link]\n",
    "fgp = 1200\n",
    "r = 15\n",
    "fgp3 = 500\n",
    "\n",
    "elo = set_up_elo_model(k=k, seed=seed, link_function=link_function, \n",
    "                       fgp=fgp, fgp3=fgp3, r=r)\n",
    "\n",
    "\n",
    "\n"
   ]
  },
  {
   "cell_type": "code",
   "execution_count": 3,
   "metadata": {},
   "outputs": [
    {
     "data": {
      "text/plain": [
       "68758"
      ]
     },
     "execution_count": 3,
     "metadata": {},
     "output_type": "execute_result"
    }
   ],
   "source": [
    "match_predictions = run_system(elo, SEASON)\n",
    "match_predictions.to_sql(\n",
    "        con=engine, index=False, name=MatchPredictions.__tablename__, if_exists=\"replace\"\n",
    "    )"
   ]
  },
  {
   "cell_type": "code",
   "execution_count": 26,
   "metadata": {},
   "outputs": [],
   "source": [
    "# Get the team id to name\n",
    "team_id_to_name = {x:y for x,y in session.query(Team.TeamID, Team.TeamName).all()}"
   ]
  },
  {
   "cell_type": "code",
   "execution_count": 27,
   "metadata": {},
   "outputs": [],
   "source": [
    "# Get all teams in the tournament for predicting\n",
    "dancers = pd.DataFrame(session.query(Seed.TeamID, Seed.Seed.label('seed')).filter(Seed.Season==SEASON).all())\n",
    "\n",
    "dancers_df = dancers.sort_values(by='TeamID').set_index('TeamID', drop = True)\n",
    "dancers_df = dancers_df.join(pd.DataFrame.from_dict(team_id_to_name, orient='index', \n",
    "                                                    columns=['TeamName']), how='left')"
   ]
  },
  {
   "cell_type": "code",
   "execution_count": 28,
   "metadata": {},
   "outputs": [],
   "source": [
    "# Get the most recent stats before the tournament\n",
    "def get_most_recent_stats(Season):\n",
    "    \"\"\"\n",
    "    For a given Season, get the most recent stats available\n",
    "    :param Season:\n",
    "    :return:\n",
    "    \"\"\"\n",
    "    Session = sessionmaker(bind=engine)\n",
    "    session = Session()\n",
    "\n",
    "    q = session.query(Team.TeamID, func.max(Match.mdid).label('mdid')).join(\n",
    "    Match.teams).filter(Match.Season == Season).group_by(Team.TeamID).subquery()\n",
    "\n",
    "    winners = list(session.query(Match.WTeamID, Match.WFGP3_avg, Match.WFGP_avg, Match.WR_avg, MatchPredictions.WTeamRatingAfter).join(\n",
    "    q, and_(Match.WTeamID==q.c.TeamID, Match.mdid == q.c.mdid)\n",
    "                                                                       ).join(MatchPredictions).all())\n",
    "\n",
    "    losers = list(session.query(Match.LTeamID, Match.LFGP3_avg, Match.LFGP_avg, Match.LR_avg, MatchPredictions.LTeamRatingAfter).join(\n",
    "    q, and_(Match.LTeamID==q.c.TeamID, Match.mdid == q.c.mdid)\n",
    "                                                                       ).join(MatchPredictions).all())\n",
    "\n",
    "    all_stats = winners + losers\n",
    "    \n",
    "    df = pd.DataFrame(all_stats, columns = ['TeamID', 'FGP3', 'FGP', 'R','rating'])\n",
    "    df.set_index('TeamID', inplace = True, drop = True)\n",
    "\n",
    "    return df\n",
    "\n",
    "dancer_to_stats = get_most_recent_stats(SEASON)"
   ]
  },
  {
   "cell_type": "code",
   "execution_count": 29,
   "metadata": {},
   "outputs": [],
   "source": [
    "\n",
    "full_df = dancers_df.merge(dancer_to_stats, left_index = True, right_index = True)\n",
    "\n",
    "dancers_dicts = full_df.to_dict(orient='index')"
   ]
  },
  {
   "cell_type": "code",
   "execution_count": 30,
   "metadata": {},
   "outputs": [],
   "source": [
    "response_fns = {\n",
    "    'H': home_response,\n",
    "    'A': away_response,\n",
    "    'N': neutral_response\n",
    "}\n",
    "\n",
    "predictions = []\n",
    "predictions_named = []"
   ]
  },
  {
   "cell_type": "code",
   "execution_count": 14,
   "metadata": {},
   "outputs": [],
   "source": [
    "# Get the mapping of round to potential opponents\n",
    "\n",
    "if 'female' in DATA_PATH:\n",
    "    df_slots = pd.read_csv(f\"{DATA_PATH}NCAATourneySlots2022.csv\").reset_index(drop=True)\n",
    "else:\n",
    "    df_slots = pd.read_csv(f\"{DATA_PATH}NCAATourneySlots.csv\").query(\n",
    "    f\"Season == {SEASON}\").drop(columns=[\"Season\"]).reset_index(drop=True)\n",
    "\n",
    "# Get seeds\n",
    "df_seeds = pd.read_csv(f\"{DATA_PATH}NCAATourneySeeds.csv\").query(\n",
    "    f\"Season == {SEASON}\").drop(columns=[\"Season\"]).reset_index(drop=True)\n",
    "\n",
    "\n",
    "slot_to_teams:Dict[str,Set[str]] = dict()\n",
    "round_to_team_to_opponents:Dict[int,Dict[str,Set[str]]] = defaultdict(\n",
    "    lambda: defaultdict(set))\n",
    "\n",
    "# For each slot get the possible opponents\n",
    "# Slot = e.g. R1W2 -> Round 1, the match which W02 seed would play in as the strong seed\n",
    "\n",
    "for _, row in df_slots.iterrows():\n",
    "    slot = row['Slot']\n",
    "    if slot[0] == \"R\":\n",
    "        # Round number\n",
    "        rd = int(slot[1])\n",
    "\n",
    "        strong = row['StrongSeed']  # e.g. W02 or R1W2\n",
    "\n",
    "        # The teams feeding into the strong seed's previous match\n",
    "        weak_opponents = slot_to_teams.get(strong, {strong})\n",
    "\n",
    "        # Get the weak sided equivalent\n",
    "        weak = row['WeakSeed']\n",
    "        strong_opponents = slot_to_teams.get(weak, {weak})\n",
    "\n",
    "        # Update register\n",
    "        for wk in weak_opponents:\n",
    "            for st in strong_opponents:\n",
    "                round_to_team_to_opponents[rd][st].add(wk)\n",
    "                round_to_team_to_opponents[rd][wk].add(st)\n",
    "\n",
    "        teams = strong_opponents.union(weak_opponents)\n",
    "        slot_to_teams[slot]= teams"
   ]
  },
  {
   "cell_type": "code",
   "execution_count": 15,
   "metadata": {},
   "outputs": [],
   "source": [
    "seed_to_team_id = df_seeds.set_index(\"Seed\").to_dict()['TeamID']"
   ]
  },
  {
   "cell_type": "code",
   "execution_count": 16,
   "metadata": {},
   "outputs": [
    {
     "ename": "NameError",
     "evalue": "name 'team_id_to_name' is not defined",
     "output_type": "error",
     "traceback": [
      "\u001b[0;31m---------------------------------------------------------------------------\u001b[0m",
      "\u001b[0;31mNameError\u001b[0m                                 Traceback (most recent call last)",
      "Input \u001b[0;32mIn [16]\u001b[0m, in \u001b[0;36m<cell line: 3>\u001b[0;34m()\u001b[0m\n\u001b[1;32m      1\u001b[0m \u001b[38;5;66;03m# First Four results -> TO BE UPDATED\u001b[39;00m\n\u001b[0;32m----> 3\u001b[0m \u001b[38;5;28mprint\u001b[39m(\u001b[43mteam_id_to_name\u001b[49m[seed_to_team_id[\u001b[38;5;124m'\u001b[39m\u001b[38;5;124mW16a\u001b[39m\u001b[38;5;124m'\u001b[39m]], seed_to_team_id[\u001b[38;5;124m'\u001b[39m\u001b[38;5;124mW16a\u001b[39m\u001b[38;5;124m'\u001b[39m], seed_to_team_id[\u001b[38;5;124m'\u001b[39m\u001b[38;5;124mW16b\u001b[39m\u001b[38;5;124m'\u001b[39m])\n\u001b[1;32m      4\u001b[0m \u001b[38;5;28mprint\u001b[39m(team_id_to_name[seed_to_team_id[\u001b[38;5;124m'\u001b[39m\u001b[38;5;124mY11a\u001b[39m\u001b[38;5;124m'\u001b[39m]], seed_to_team_id[\u001b[38;5;124m'\u001b[39m\u001b[38;5;124mY11a\u001b[39m\u001b[38;5;124m'\u001b[39m], seed_to_team_id[\u001b[38;5;124m'\u001b[39m\u001b[38;5;124mY11b\u001b[39m\u001b[38;5;124m'\u001b[39m])\n\u001b[1;32m      5\u001b[0m \u001b[38;5;28mprint\u001b[39m(team_id_to_name[seed_to_team_id[\u001b[38;5;124m'\u001b[39m\u001b[38;5;124mY16a\u001b[39m\u001b[38;5;124m'\u001b[39m]], seed_to_team_id[\u001b[38;5;124m'\u001b[39m\u001b[38;5;124mY16a\u001b[39m\u001b[38;5;124m'\u001b[39m], seed_to_team_id[\u001b[38;5;124m'\u001b[39m\u001b[38;5;124mY16b\u001b[39m\u001b[38;5;124m'\u001b[39m])\n",
      "\u001b[0;31mNameError\u001b[0m: name 'team_id_to_name' is not defined"
     ]
    }
   ],
   "source": [
    "# First Four results -> TO BE UPDATED\n",
    "\n",
    "print(team_id_to_name[seed_to_team_id['W16a']], seed_to_team_id['W16a'], seed_to_team_id['W16b'])\n",
    "print(team_id_to_name[seed_to_team_id['Y11a']], seed_to_team_id['Y11a'], seed_to_team_id['Y11b'])\n",
    "print(team_id_to_name[seed_to_team_id['Y16a']], seed_to_team_id['Y16a'], seed_to_team_id['Y16b'])\n",
    "print(team_id_to_name[seed_to_team_id['X11a']], seed_to_team_id['X11a'], seed_to_team_id['X11b'])"
   ]
  },
  {
   "cell_type": "code",
   "execution_count": 34,
   "metadata": {},
   "outputs": [],
   "source": [
    "seed_to_team_id['W16'] = 3255\n",
    "seed_to_team_id['Y11'] = 3173\n",
    "seed_to_team_id['Y16'] = 3224\n",
    "seed_to_team_id['X11'] = 3283"
   ]
  },
  {
   "cell_type": "code",
   "execution_count": 35,
   "metadata": {},
   "outputs": [],
   "source": [
    "# From the first four\n",
    "losers = [3291, 3177, 3230, 3199]"
   ]
  },
  {
   "cell_type": "code",
   "execution_count": 37,
   "metadata": {},
   "outputs": [],
   "source": [
    "# Set up team ratings\n",
    "round_to_team_id_to_rating: Dict[int,Dict[int,float]] = defaultdict(lambda: defaultdict(float))\n",
    "for team_id, dd in dancers_dicts.items():\n",
    "    round_to_team_id_to_rating[1][team_id] = dd['rating']\n",
    "    \n",
    "# Set up record of probability of a team reaching round N\n",
    "round_to_team_id_to_prob: Dict[int,Dict[int,float]] = defaultdict(lambda: defaultdict(float))\n",
    "for team_id, dd in dancers_dicts.items():\n",
    "    if team_id in losers:\n",
    "        p = 0\n",
    "    else:\n",
    "        p = 1\n",
    "    round_to_team_id_to_prob[1][team_id] = p\n",
    "    \n",
    "# All 6 championship rounds\n",
    "for rd in range(1,7):\n",
    "    # Get the matches for the round\n",
    "    rd_matches = round_to_team_to_opponents[rd]\n",
    "    \n",
    "    # For each team and set of opponents\n",
    "    for team, opponents in rd_matches.items():\n",
    "        # Only do once per matchup\n",
    "        for opponent in opponents:\n",
    "            if team < opponent:\n",
    "                \n",
    "                # Set team ids\n",
    "                team_id = seed_to_team_id[team]\n",
    "                opponent_id = seed_to_team_id[opponent]\n",
    "\n",
    "                # Set team 1 and team 2 by using min team id as team 1\n",
    "                if team_id < opponent_id:\n",
    "                    team_1 = team_id\n",
    "                    team_2 = opponent_id\n",
    "                    team_1_seed = team\n",
    "                    team_2_seed = opponent\n",
    "                else:\n",
    "                    team_2 = team_id\n",
    "                    team_1 = opponent_id\n",
    "                    team_2_seed = team\n",
    "                    team_1_seed = opponent\n",
    "\n",
    "                # Get current ratings\n",
    "                team_1_rating = round_to_team_id_to_rating[rd][team_1]\n",
    "                team_2_rating = round_to_team_id_to_rating[rd][team_2]\n",
    "                \n",
    "                # Get stats and latest rating\n",
    "                team_1_stats = {**dancers_dicts[team_1], **{'rating': team_1_rating}}\n",
    "                team_2_stats = {**dancers_dicts[team_2], **{'rating': team_2_rating}}\n",
    "                \n",
    "                # Predict matchup\n",
    "                prediction = elo.predict(team_1_stats, team_2_stats)\n",
    "                \n",
    "                # Save prediction\n",
    "                matchup_id = f\"{SEASON}_{team_1}_{team_2}\"\n",
    "\n",
    "                # Update ratings probabilistically\n",
    "                if rd < 6:\n",
    "                    \n",
    "                    # Assume point win of 8\n",
    "                    point_diff = 8\n",
    "                    result_likelihood = max(elo.response(point_diff, 'N'), prediction + 0.02)\n",
    "                    # Update team 1's rating if they had beaten this opponent\n",
    "                    team_1_new = elo.update(prediction, result_likelihood, team_1_rating, elo.K)\n",
    "                    \n",
    "                    prob_playing_opponent = round_to_team_id_to_prob[rd][team_2]\n",
    "                        \n",
    "                    # The expected rating at this stage should be the new rating\n",
    "                    # multiplied the probability this matchup occurred\n",
    "                    round_to_team_id_to_rating[rd+1][team_1] += team_1_new * prob_playing_opponent\n",
    "                    # Prob of making it to next round is the prob they made it to this round\n",
    "                    # X by prob they win this match X prob opponent was their opponent\n",
    "                    round_to_team_id_to_prob[rd+1][team_1] += (prediction * prob_playing_opponent\n",
    "                                                              ) * round_to_team_id_to_prob[rd][team_1]\n",
    "\n",
    "                    # Repeat for other team\n",
    "                    point_diff = 8\n",
    "                    result_likelihood = max(elo.response(point_diff, 'N'), 1-prediction + 0.02)\n",
    "                    team_2_new = elo.update(1-prediction, result_likelihood, team_2_rating, elo.K)\n",
    "\n",
    "                    \n",
    "                    prob_playing_opponent = round_to_team_id_to_prob[rd][team_1]\n",
    "                    \n",
    "                    round_to_team_id_to_rating[rd+1][team_2] += team_2_new * prob_playing_opponent\n",
    "                    round_to_team_id_to_prob[rd+1][team_2] += ((1-prediction) * prob_playing_opponent\n",
    "                                                              ) * round_to_team_id_to_prob[rd][team_2]\n",
    "                    \n",
    "\n",
    "                predictions.append((matchup_id\n",
    "                                    , prediction))\n",
    "                predictions_named.append((team_1_stats['TeamName'], team_2_stats['TeamName']\n",
    "                                    , prediction))"
   ]
  },
  {
   "cell_type": "code",
   "execution_count": 38,
   "metadata": {},
   "outputs": [],
   "source": [
    "# Check out a top seed for sanity\n",
    "team_id = seed_to_team_id['Y01']"
   ]
  },
  {
   "cell_type": "code",
   "execution_count": 39,
   "metadata": {},
   "outputs": [
    {
     "data": {
      "text/plain": [
       "{'seed': 1,\n",
       " 'TeamName': 'South Carolina',\n",
       " 'FGP3': 0.31276420772783,\n",
       " 'FGP': 0.4415061961769973,\n",
       " 'R': 43.166666666666664,\n",
       " 'rating': 1120.2677456282502}"
      ]
     },
     "execution_count": 39,
     "metadata": {},
     "output_type": "execute_result"
    }
   ],
   "source": [
    "dancers_dicts[team_id]"
   ]
  },
  {
   "cell_type": "code",
   "execution_count": 40,
   "metadata": {},
   "outputs": [
    {
     "name": "stdout",
     "output_type": "stream",
     "text": [
      "1\n",
      "0.99\n",
      "0.925518252781213\n",
      "0.7680292322398167\n",
      "0.5892999947531093\n",
      "0.3768617404991875\n"
     ]
    }
   ],
   "source": [
    "for rd in [1,2,3,4,5,6]:\n",
    "    print(round_to_team_id_to_prob[rd][team_id])"
   ]
  },
  {
   "cell_type": "code",
   "execution_count": 42,
   "metadata": {},
   "outputs": [],
   "source": [
    "# For first four losers, add in data needed for competition (although won't be scored)\n",
    "for loser in losers:\n",
    "    for team in dancers_dicts:\n",
    "        if loser != team:\n",
    "            if loser > team:\n",
    "                predictions.append((f'2022_{team}_{loser}', 1.0))\n",
    "            else:\n",
    "                if team not in losers:\n",
    "                    predictions.append((f'2022_{loser}_{team}', 0.0))"
   ]
  },
  {
   "cell_type": "code",
   "execution_count": 43,
   "metadata": {},
   "outputs": [],
   "source": [
    "# Save submissions\n",
    "prediction_df = pd.DataFrame(predictions, columns = ['ID', 'Pred'])\n",
    "\n",
    "prediction_df.to_csv(f'../submissions/ids/WOMENS_{k}_{seed}_{link}_{fgp}_{fgp3}_{r}.csv', index=False)\n",
    "\n",
    "\n",
    "prediction_named_df = pd.DataFrame(predictions_named, columns = ['Team1', 'Team2', 'Pred'])\n",
    "\n",
    "prediction_named_df.to_csv(f'../submissions/names/WOMENS_{k}_{seed}_{link}_{fgp}_{fgp3}_{r}.csv', index=False)"
   ]
  },
  {
   "cell_type": "code",
   "execution_count": 58,
   "metadata": {},
   "outputs": [
    {
     "data": {
      "text/plain": [
       "(2278, 2)"
      ]
     },
     "execution_count": 58,
     "metadata": {},
     "output_type": "execute_result"
    }
   ],
   "source": [
    "prediction_df.shape"
   ]
  }
 ],
 "metadata": {
  "kernelspec": {
   "display_name": "Python 3 (ipykernel)",
   "language": "python",
   "name": "python3"
  },
  "language_info": {
   "codemirror_mode": {
    "name": "ipython",
    "version": 3
   },
   "file_extension": ".py",
   "mimetype": "text/x-python",
   "name": "python",
   "nbconvert_exporter": "python",
   "pygments_lexer": "ipython3",
   "version": "3.9.12"
  }
 },
 "nbformat": 4,
 "nbformat_minor": 2
}
