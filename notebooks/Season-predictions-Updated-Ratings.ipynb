{
 "cells": [
  {
   "cell_type": "code",
   "execution_count": null,
   "metadata": {},
   "outputs": [],
   "source": [
    "import sys\n",
    "sys.path.append('../')\n",
    "import os\n",
    "\n",
    "DATABASE = os.environ['DATABASE_URL'].split('sqlite:///')[1]\n",
    "\n",
    "# Env vars for Men / Women's tournament\n",
    "DATA_PATH = os.environ['DATA_PATH'] + \"/\" + os.environ[\"DATA_PREFIX\"]\n",
    "gender = \"WOMENS\" if os.environ[\"DATA_PREFIX\"] == \"W\" else \"MENS\"\n",
    "\n",
    "from models import Seed, engine, Team, Match, MatchPredictions, SEASON\n",
    "from elo_run.response_function import home_response, away_response, neutral_response\n",
    "from elo_run.param_tuning import run_system, set_up_elo_model, link_function_list\n",
    "\n",
    "import pandas as pd\n",
    "import datetime\n",
    "from typing import Dict, Set\n",
    "\n",
    "from collections import defaultdict\n",
    "\n",
    "from sqlalchemy.orm import sessionmaker\n",
    "from sqlalchemy import *\n",
    "\n",
    "Session = sessionmaker(bind=engine)\n",
    "\n",
    "session = Session()"
   ]
  },
  {
   "cell_type": "code",
   "execution_count": null,
   "metadata": {},
   "outputs": [],
   "source": []
  },
  {
   "cell_type": "code",
   "execution_count": null,
   "metadata": {},
   "outputs": [],
   "source": [
    "row = \"\"\"25\t-70.0\tL\t1200.0\t15.0\t-10.0\"\"\"\n",
    "description = \"slow_update_high_seed\""
   ]
  },
  {
   "cell_type": "code",
   "execution_count": null,
   "metadata": {},
   "outputs": [],
   "source": [
    "vals = row.split(\"\t\")"
   ]
  },
  {
   "cell_type": "code",
   "execution_count": null,
   "metadata": {},
   "outputs": [],
   "source": [
    "# Define a system, and get match predictions\n",
    "k = int(vals[0])\n",
    "seed = float(vals[1])\n",
    "link = vals[2]\n",
    "link_function = link_function_list[link]\n",
    "fgp = float(vals[3])\n",
    "r = float(vals[4])\n",
    "fgp3 = float(vals[5])\n",
    "\n",
    "elo = set_up_elo_model(k=k, seed=seed, link_function=link_function, \n",
    "                       fgp=fgp, fgp3=fgp3, r=r)\n",
    "\n",
    "\n",
    "\n"
   ]
  },
  {
   "cell_type": "code",
   "execution_count": null,
   "metadata": {},
   "outputs": [],
   "source": [
    "match_predictions = run_system(elo, SEASON)\n",
    "match_predictions.to_sql(\n",
    "        con=engine, index=False, name=MatchPredictions.__tablename__, if_exists=\"replace\"\n",
    "    )"
   ]
  },
  {
   "cell_type": "code",
   "execution_count": null,
   "metadata": {},
   "outputs": [],
   "source": [
    "# Get the team id to name\n",
    "team_id_to_name = {x:y for x,y in session.query(Team.TeamID, Team.TeamName).all()}"
   ]
  },
  {
   "cell_type": "code",
   "execution_count": null,
   "metadata": {},
   "outputs": [],
   "source": [
    "# Get all teams in the tournament for predicting\n",
    "dancers = pd.DataFrame(session.query(Seed.TeamID, Seed.Seed.label('seed')).filter(Seed.Season==SEASON).all())\n",
    "\n",
    "dancers_df = dancers.sort_values(by='TeamID').set_index('TeamID', drop = True)\n",
    "dancers_df = dancers_df.join(pd.DataFrame.from_dict(team_id_to_name, orient='index', \n",
    "                                                    columns=['TeamName']), how='left')"
   ]
  },
  {
   "cell_type": "code",
   "execution_count": null,
   "metadata": {},
   "outputs": [],
   "source": []
  },
  {
   "cell_type": "code",
   "execution_count": null,
   "metadata": {},
   "outputs": [],
   "source": [
    "# Get the most recent stats before the tournament\n",
    "def get_most_recent_stats(Season):\n",
    "    \"\"\"\n",
    "    For a given Season, get the most recent stats available\n",
    "    :param Season:\n",
    "    :return:\n",
    "    \"\"\"\n",
    "    Session = sessionmaker(bind=engine)\n",
    "    session = Session()\n",
    "\n",
    "    q = session.query(Team.TeamID, func.max(Match.mdid).label('mdid')).join(\n",
    "    Match.teams).filter(Match.Season == Season).group_by(Team.TeamID).subquery()\n",
    "\n",
    "    winners = list(session.query(Match.WTeamID, Match.WFGP3_avg, Match.WFGP_avg, Match.WR_avg, MatchPredictions.WTeamRatingAfter).join(\n",
    "    q, and_(Match.WTeamID==q.c.TeamID, Match.mdid == q.c.mdid)\n",
    "                                                                       ).join(MatchPredictions).all())\n",
    "\n",
    "    losers = list(session.query(Match.LTeamID, Match.LFGP3_avg, Match.LFGP_avg, Match.LR_avg, MatchPredictions.LTeamRatingAfter).join(\n",
    "    q, and_(Match.LTeamID==q.c.TeamID, Match.mdid == q.c.mdid)\n",
    "                                                                       ).join(MatchPredictions).all())\n",
    "\n",
    "    all_stats = winners + losers\n",
    "    \n",
    "    df = pd.DataFrame(all_stats, columns = ['TeamID', 'FGP3', 'FGP', 'R','rating'])\n",
    "    df.set_index('TeamID', inplace = True, drop = True)\n",
    "\n",
    "    return df\n",
    "\n",
    "dancer_to_stats = get_most_recent_stats(SEASON)"
   ]
  },
  {
   "cell_type": "code",
   "execution_count": null,
   "metadata": {},
   "outputs": [],
   "source": [
    "\n",
    "full_df = dancers_df.merge(dancer_to_stats, left_index = True, right_index = True)\n",
    "\n",
    "dancers_dicts = full_df.to_dict(orient='index')"
   ]
  },
  {
   "cell_type": "code",
   "execution_count": null,
   "metadata": {},
   "outputs": [],
   "source": [
    "response_fns = {\n",
    "    'H': home_response,\n",
    "    'A': away_response,\n",
    "    'N': neutral_response\n",
    "}\n",
    "\n",
    "predictions = []\n",
    "predictions_named = []"
   ]
  },
  {
   "cell_type": "code",
   "execution_count": null,
   "metadata": {},
   "outputs": [],
   "source": [
    "# Get seeds\n",
    "df_seeds = pd.read_csv(f\"{DATA_PATH}NCAATourneySeeds.csv\").query(\n",
    "    f\"Season == {SEASON}\").drop(columns=[\"Season\"]).reset_index(drop=True)\n",
    "seed_to_team_id = df_seeds.set_index(\"Seed\").to_dict()['TeamID']"
   ]
  },
  {
   "cell_type": "code",
   "execution_count": null,
   "metadata": {},
   "outputs": [],
   "source": [
    "first_four_slots = [x for x in seed_to_team_id if 'a' in x]"
   ]
  },
  {
   "cell_type": "code",
   "execution_count": null,
   "metadata": {},
   "outputs": [],
   "source": [
    "first_four_slots"
   ]
  },
  {
   "cell_type": "code",
   "execution_count": null,
   "metadata": {},
   "outputs": [],
   "source": [
    "# First Four results -> TO BE UPDATED\n",
    "\n",
    "for i in first_four_slots:\n",
    "    other = i.replace(\"a\", \"b\")\n",
    "    print(i, \n",
    "          f\"{seed_to_team_id[i]}:{team_id_to_name[seed_to_team_id[i]]}\",\n",
    "            f\"{seed_to_team_id[other]}:{team_id_to_name[seed_to_team_id[other]]}\",\n",
    "         )"
   ]
  },
  {
   "cell_type": "code",
   "execution_count": null,
   "metadata": {},
   "outputs": [],
   "source": [
    "# 2023 Results\n",
    "if gender == \"MENS\":\n",
    "    seed_to_team_id['W16'] = 1192\n",
    "    seed_to_team_id['X16'] = 1394\n",
    "    seed_to_team_id['Y11'] = 1338\n",
    "    seed_to_team_id['Z11'] = 1113\n",
    "    remaining_first_four_seeds = []\n",
    "    remaining_first_four_teams = []\n",
    "    losers = [1411, 1369, 1280, 1305]\n",
    "else:\n",
    "    seed_to_team_id['W11'] = 3280\n",
    "    seed_to_team_id['X16'] = 3357\n",
    "    remaining_first_four_seeds = [\"Y16\", \"Z11\"]\n",
    "    losers = [3228, 3380]\n",
    "    remaining_first_four_teams = [3284, 3399, 3345, 3385]"
   ]
  },
  {
   "cell_type": "code",
   "execution_count": null,
   "metadata": {},
   "outputs": [],
   "source": [
    "print(remaining_first_four_seeds)"
   ]
  },
  {
   "cell_type": "code",
   "execution_count": null,
   "metadata": {},
   "outputs": [],
   "source": [
    "# Get the mapping of round to potential opponents\n",
    "\n",
    "df_slots = pd.read_csv(f\"{DATA_PATH}NCAATourneySlots.csv\").query(\n",
    "    f\"Season == {SEASON}\").drop(columns=[\"Season\"]).reset_index(drop=True)\n",
    "\n",
    "\n",
    "df_slots['round'] = df_slots[\"Slot\"].apply(lambda x: int(x[1]) if x[0] == \"R\" else 0)\n",
    "\n",
    "\n",
    "slot_to_teams:Dict[str,Set[str]] = dict()\n",
    "round_to_team_to_opponents:Dict[int,Dict[str,Set[str]]] = defaultdict(\n",
    "    lambda: defaultdict(set))\n",
    "\n",
    "# For each slot get the possible opponents\n",
    "# Slot = e.g. R1W2 -> Round 1, the match which W02 seed would play \n",
    "# in as the strong seed\n",
    "\n",
    "for _, row in df_slots.sort_values(by=['round']).iterrows():\n",
    "    slot = row['Slot']\n",
    "    if 'R' in slot or slot in remaining_first_four_seeds:\n",
    "        rd = row['round']\n",
    "\n",
    "        strong = row['StrongSeed']  # e.g. W02 or R1W2\n",
    "\n",
    "        # The teams feeding into the strong seed's previous match\n",
    "        weak_opponents = slot_to_teams.get(strong, {strong})\n",
    "\n",
    "        # Get the weak sided equivalent\n",
    "        weak = row['WeakSeed']\n",
    "        strong_opponents = slot_to_teams.get(weak, {weak})\n",
    "\n",
    "        # Update register\n",
    "        for wk in weak_opponents:\n",
    "            for st in strong_opponents:\n",
    "                round_to_team_to_opponents[rd][st].add(wk)\n",
    "                round_to_team_to_opponents[rd][wk].add(st)\n",
    "\n",
    "\n",
    "        teams = strong_opponents.union(weak_opponents)\n",
    "        slot_to_teams[slot]= teams"
   ]
  },
  {
   "cell_type": "code",
   "execution_count": null,
   "metadata": {},
   "outputs": [],
   "source": [
    "losers"
   ]
  },
  {
   "cell_type": "code",
   "execution_count": null,
   "metadata": {},
   "outputs": [],
   "source": [
    "# Set up team ratings\n",
    "round_to_team_id_to_rating: Dict[int,Dict[int,float]] = defaultdict(lambda: defaultdict(float))\n",
    "for team_id, dd in dancers_dicts.items():\n",
    "    if team_id in remaining_first_four_teams:\n",
    "        r = 0\n",
    "    else:\n",
    "        r = 1\n",
    "    round_to_team_id_to_rating[r][team_id] = dd['rating']\n",
    "    \n",
    "# Set up record of probability of a team reaching round N\n",
    "round_to_team_id_to_prob: Dict[int,Dict[int,float]] = defaultdict(lambda: defaultdict(float))\n",
    "\n",
    "for team_id, dd in dancers_dicts.items():\n",
    "    if team_id in remaining_first_four_teams:\n",
    "        p = 1\n",
    "        r = 0\n",
    "    elif team_id in losers:\n",
    "        p = 0\n",
    "        r = 1\n",
    "    else:\n",
    "        p = 1\n",
    "        r = 1\n",
    "    round_to_team_id_to_prob[r][team_id] = p\n",
    "\n",
    "    \n",
    "# All 6 championship rounds\n",
    "for rd in range(0,7):\n",
    "    # Get the matches for the round\n",
    "    rd_matches = round_to_team_to_opponents[rd]\n",
    "    \n",
    "    # For each team and set of opponents\n",
    "    for team, opponents in rd_matches.items():\n",
    "        # Only do once per matchup\n",
    "        for opponent in opponents:\n",
    "            if team < opponent:\n",
    "                \n",
    "                # Set team ids\n",
    "                team_id = seed_to_team_id[team]\n",
    "                opponent_id = seed_to_team_id[opponent]\n",
    "\n",
    "                # Set team 1 and team 2 by using min team id as team 1\n",
    "                if team_id < opponent_id:\n",
    "                    team_1 = team_id\n",
    "                    team_2 = opponent_id\n",
    "                    team_1_seed = team\n",
    "                    team_2_seed = opponent\n",
    "                else:\n",
    "                    team_2 = team_id\n",
    "                    team_1 = opponent_id\n",
    "                    team_2_seed = team\n",
    "                    team_1_seed = opponent\n",
    "\n",
    "                # Get current ratings\n",
    "                team_1_rating = round_to_team_id_to_rating[rd][team_1]\n",
    "                team_2_rating = round_to_team_id_to_rating[rd][team_2]\n",
    "                \n",
    "                # Get stats and latest rating\n",
    "                team_1_stats = {**dancers_dicts[team_1], **{'rating': team_1_rating}}\n",
    "                team_2_stats = {**dancers_dicts[team_2], **{'rating': team_2_rating}}\n",
    "                \n",
    "                # Predict matchup\n",
    "                prediction = elo.predict(team_1_stats, team_2_stats)\n",
    "                \n",
    "                # Save prediction\n",
    "                matchup_id = f\"{SEASON}_{team_1}_{team_2}\"\n",
    "\n",
    "                # Update ratings probabilistically\n",
    "                if rd < 6:\n",
    "                    \n",
    "                    # Assume point win of 8\n",
    "                    point_diff = 8\n",
    "                    result_likelihood = max(elo.response(point_diff, 'N'), prediction + 0.02)\n",
    "                    # Update team 1's rating if they had beaten this opponent\n",
    "                    team_1_new = elo.update(prediction, result_likelihood, team_1_rating, elo.K)\n",
    "                    \n",
    "                    prob_playing_opponent = round_to_team_id_to_prob[rd][team_2]\n",
    "                        \n",
    "                    # The expected rating at this stage should be the new rating\n",
    "                    # multiplied the probability this matchup occurred\n",
    "                    round_to_team_id_to_rating[rd+1][team_1] += team_1_new * prob_playing_opponent\n",
    "                    # Prob of making it to next round is the prob they made it to this round\n",
    "                    # X by prob they win this match X prob opponent was their opponent\n",
    "                    round_to_team_id_to_prob[rd+1][team_1] += (prediction * prob_playing_opponent\n",
    "                                                              ) * round_to_team_id_to_prob[rd][team_1]\n",
    "\n",
    "                    # Repeat for other team\n",
    "                    point_diff = 8\n",
    "                    result_likelihood = max(elo.response(point_diff, 'N'), 1-prediction + 0.02)\n",
    "                    team_2_new = elo.update(1-prediction, result_likelihood, team_2_rating, elo.K)\n",
    "\n",
    "                    \n",
    "                    prob_playing_opponent = round_to_team_id_to_prob[rd][team_1]\n",
    "                    \n",
    "                    round_to_team_id_to_rating[rd+1][team_2] += team_2_new * prob_playing_opponent\n",
    "                    round_to_team_id_to_prob[rd+1][team_2] += ((1-prediction) * prob_playing_opponent\n",
    "                                                              ) * round_to_team_id_to_prob[rd][team_2]\n",
    "                    \n",
    "\n",
    "                predictions.append((matchup_id\n",
    "                                    , prediction))\n",
    "                predictions_named.append((team_1_stats['TeamName'], team_2_stats['TeamName']\n",
    "                                    , prediction))"
   ]
  },
  {
   "cell_type": "code",
   "execution_count": null,
   "metadata": {},
   "outputs": [],
   "source": [
    "# Check out a top seed for sanity\n",
    "team_id = seed_to_team_id['Z01']"
   ]
  },
  {
   "cell_type": "code",
   "execution_count": null,
   "metadata": {},
   "outputs": [],
   "source": [
    "dancers_dicts[team_id]"
   ]
  },
  {
   "cell_type": "code",
   "execution_count": null,
   "metadata": {},
   "outputs": [],
   "source": [
    "for rd in [1,2,3,4,5,6]:\n",
    "    print(round_to_team_id_to_prob[rd][team_id])"
   ]
  },
  {
   "cell_type": "code",
   "execution_count": null,
   "metadata": {},
   "outputs": [],
   "source": [
    "team_to_seed = {v:k for k,v in seed_to_team_id.items()}"
   ]
  },
  {
   "cell_type": "code",
   "execution_count": null,
   "metadata": {},
   "outputs": [],
   "source": [
    "branch = \"Y\"\n",
    "teams = {v for k,v in seed_to_team_id.items() if branch in k}\n",
    "for r, item in round_to_team_id_to_prob.items():\n",
    "    r_total = 0\n",
    "    for t, p in item.items():\n",
    "        if t in teams:\n",
    "            if r == 1:\n",
    "                print(team_to_seed[t],p)\n",
    "#             print(r, p)\n",
    "            r_total += p\n",
    "    print(r, r_total)"
   ]
  },
  {
   "cell_type": "code",
   "execution_count": null,
   "metadata": {},
   "outputs": [],
   "source": [
    "sample_df = pd.read_csv(f\"{DATA_PATH[:-2]}/SampleSubmission{SEASON}.csv\")\n",
    "\n",
    "# Womens\n",
    "if gender == \"WOMENS\":\n",
    "    sample_submission_rows = sample_df.query(f\"ID > '{SEASON}_3'\")\n",
    "# Mens\n",
    "else:\n",
    "    sample_submission_rows = sample_df.query(f\"ID < '{SEASON}_3'\")\n",
    "\n",
    "prediction_df = pd.DataFrame(predictions, columns = ['ID', 'Pred'])\n",
    "\n",
    "prediction_ids = set(prediction_df['ID'])\n",
    "\n",
    "sample_submission_rows = sample_submission_rows[\n",
    "    ~sample_submission_rows[\"ID\"].isin(prediction_ids)]"
   ]
  },
  {
   "cell_type": "code",
   "execution_count": null,
   "metadata": {},
   "outputs": [],
   "source": []
  },
  {
   "cell_type": "code",
   "execution_count": null,
   "metadata": {},
   "outputs": [],
   "source": [
    "# Save submissions\n",
    "final_out_df = pd.concat([prediction_df, sample_submission_rows], ignore_index=True)\n",
    "timestamp = datetime.datetime.now().strftime(\"%Y-%m-%dT%H:%M\")\n",
    "final_out_df.to_csv(f'../submissions/ids/{gender[0]}_{description}_{timestamp}_{k}_{seed}_{link}_{fgp}_{fgp3}_{r}.csv', index=False)\n",
    "\n",
    "prediction_named_df = pd.DataFrame(predictions_named, columns = ['Team1', 'Team2', 'Pred'])\n",
    "\n",
    "prediction_named_df.to_csv(f'../submissions/names/{gender[0]}_{description}_{timestamp}_{k}_{seed}_{link}_{fgp}_{fgp3}_{r}.csv', index=False)"
   ]
  },
  {
   "cell_type": "code",
   "execution_count": null,
   "metadata": {},
   "outputs": [],
   "source": []
  },
  {
   "cell_type": "code",
   "execution_count": null,
   "metadata": {},
   "outputs": [],
   "source": [
    "# Combine with womens"
   ]
  },
  {
   "cell_type": "code",
   "execution_count": null,
   "metadata": {},
   "outputs": [],
   "source": []
  },
  {
   "cell_type": "code",
   "execution_count": null,
   "metadata": {},
   "outputs": [],
   "source": []
  }
 ],
 "metadata": {
  "kernelspec": {
   "display_name": "Python 3 (ipykernel)",
   "language": "python",
   "name": "python3"
  },
  "language_info": {
   "codemirror_mode": {
    "name": "ipython",
    "version": 3
   },
   "file_extension": ".py",
   "mimetype": "text/x-python",
   "name": "python",
   "nbconvert_exporter": "python",
   "pygments_lexer": "ipython3",
   "version": "3.9.7"
  }
 },
 "nbformat": 4,
 "nbformat_minor": 2
}
