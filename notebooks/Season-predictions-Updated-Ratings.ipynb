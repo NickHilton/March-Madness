{
 "cells": [
  {
   "cell_type": "code",
   "execution_count": 118,
   "metadata": {},
   "outputs": [],
   "source": [
    "import sys\n",
    "sys.path.append('../')\n",
    "import os\n",
    "\n",
    "# Env vars for Men / Women's tournament\n",
    "os.environ['DATABASE_URL'] = DATABASE_URL = 'sqlite:////Users/nickhilton/kaggle/march_madness/databases/terrapin.db'\n",
    "DATABASE = os.environ['DATABASE_URL'].split('sqlite:///')[1]\n",
    "\n",
    "DATA_PATH = f\"/Users/nickhilton/kaggle/march_madness/data_female/W\"\n",
    "\n",
    "from models import Seed, engine, Team, Match, MatchPredictions, SEASON\n",
    "from elo_run.response_function import home_response, away_response, neutral_response\n",
    "from elo_run.param_tuning import run_system, set_up_elo_model, link_function_list\n",
    "\n",
    "import pandas as pd\n",
    "import datetime\n",
    "from typing import Dict, Set\n",
    "\n",
    "from collections import defaultdict\n",
    "\n",
    "from sqlalchemy.orm import sessionmaker\n",
    "from sqlalchemy import *\n",
    "\n",
    "Session = sessionmaker(bind=engine)\n",
    "\n",
    "session = Session()"
   ]
  },
  {
   "cell_type": "code",
   "execution_count": null,
   "metadata": {},
   "outputs": [],
   "source": []
  },
  {
   "cell_type": "code",
   "execution_count": 119,
   "metadata": {},
   "outputs": [],
   "source": [
    "# Define a system, and get match predictions\n",
    "k = 80\n",
    "seed = -40\n",
    "link = 'L'\n",
    "link_function = link_function_list[link]\n",
    "fgp = 1200\n",
    "r = 15\n",
    "fgp3 = 0\n",
    "\n",
    "elo = set_up_elo_model(k=k, seed=seed, link_function=link_function, \n",
    "                       fgp=fgp, fgp3=fgp3, r=r)\n",
    "\n",
    "\n",
    "\n"
   ]
  },
  {
   "cell_type": "code",
   "execution_count": 120,
   "metadata": {},
   "outputs": [
    {
     "data": {
      "text/plain": [
       "71543"
      ]
     },
     "execution_count": 120,
     "metadata": {},
     "output_type": "execute_result"
    }
   ],
   "source": [
    "match_predictions = run_system(elo, SEASON)\n",
    "match_predictions.to_sql(\n",
    "        con=engine, index=False, name=MatchPredictions.__tablename__, if_exists=\"replace\"\n",
    "    )"
   ]
  },
  {
   "cell_type": "code",
   "execution_count": 121,
   "metadata": {},
   "outputs": [],
   "source": [
    "# Get the team id to name\n",
    "team_id_to_name = {x:y for x,y in session.query(Team.TeamID, Team.TeamName).all()}"
   ]
  },
  {
   "cell_type": "code",
   "execution_count": 122,
   "metadata": {},
   "outputs": [],
   "source": [
    "# Get all teams in the tournament for predicting\n",
    "dancers = pd.DataFrame(session.query(Seed.TeamID, Seed.Seed.label('seed')).filter(Seed.Season==SEASON).all())\n",
    "\n",
    "dancers_df = dancers.sort_values(by='TeamID').set_index('TeamID', drop = True)\n",
    "dancers_df = dancers_df.join(pd.DataFrame.from_dict(team_id_to_name, orient='index', \n",
    "                                                    columns=['TeamName']), how='left')"
   ]
  },
  {
   "cell_type": "code",
   "execution_count": null,
   "metadata": {},
   "outputs": [],
   "source": []
  },
  {
   "cell_type": "code",
   "execution_count": 123,
   "metadata": {},
   "outputs": [],
   "source": [
    "# Get the most recent stats before the tournament\n",
    "def get_most_recent_stats(Season):\n",
    "    \"\"\"\n",
    "    For a given Season, get the most recent stats available\n",
    "    :param Season:\n",
    "    :return:\n",
    "    \"\"\"\n",
    "    Session = sessionmaker(bind=engine)\n",
    "    session = Session()\n",
    "\n",
    "    q = session.query(Team.TeamID, func.max(Match.mdid).label('mdid')).join(\n",
    "    Match.teams).filter(Match.Season == Season).group_by(Team.TeamID).subquery()\n",
    "\n",
    "    winners = list(session.query(Match.WTeamID, Match.WFGP3_avg, Match.WFGP_avg, Match.WR_avg, MatchPredictions.WTeamRatingAfter).join(\n",
    "    q, and_(Match.WTeamID==q.c.TeamID, Match.mdid == q.c.mdid)\n",
    "                                                                       ).join(MatchPredictions).all())\n",
    "\n",
    "    losers = list(session.query(Match.LTeamID, Match.LFGP3_avg, Match.LFGP_avg, Match.LR_avg, MatchPredictions.LTeamRatingAfter).join(\n",
    "    q, and_(Match.LTeamID==q.c.TeamID, Match.mdid == q.c.mdid)\n",
    "                                                                       ).join(MatchPredictions).all())\n",
    "\n",
    "    all_stats = winners + losers\n",
    "    \n",
    "    df = pd.DataFrame(all_stats, columns = ['TeamID', 'FGP3', 'FGP', 'R','rating'])\n",
    "    df.set_index('TeamID', inplace = True, drop = True)\n",
    "\n",
    "    return df\n",
    "\n",
    "dancer_to_stats = get_most_recent_stats(SEASON)"
   ]
  },
  {
   "cell_type": "code",
   "execution_count": 124,
   "metadata": {},
   "outputs": [],
   "source": [
    "\n",
    "full_df = dancers_df.merge(dancer_to_stats, left_index = True, right_index = True)\n",
    "\n",
    "dancers_dicts = full_df.to_dict(orient='index')"
   ]
  },
  {
   "cell_type": "code",
   "execution_count": 125,
   "metadata": {},
   "outputs": [],
   "source": [
    "response_fns = {\n",
    "    'H': home_response,\n",
    "    'A': away_response,\n",
    "    'N': neutral_response\n",
    "}\n",
    "\n",
    "predictions = []\n",
    "predictions_named = []"
   ]
  },
  {
   "cell_type": "code",
   "execution_count": 126,
   "metadata": {},
   "outputs": [],
   "source": [
    "# Get seeds\n",
    "df_seeds = pd.read_csv(f\"{DATA_PATH}NCAATourneySeeds.csv\").query(\n",
    "    f\"Season == {SEASON}\").drop(columns=[\"Season\"]).reset_index(drop=True)\n",
    "seed_to_team_id = df_seeds.set_index(\"Seed\").to_dict()['TeamID']"
   ]
  },
  {
   "cell_type": "code",
   "execution_count": 127,
   "metadata": {},
   "outputs": [],
   "source": [
    "first_four_slots = [x for x in seed_to_team_id if 'a' in x]"
   ]
  },
  {
   "cell_type": "code",
   "execution_count": 128,
   "metadata": {},
   "outputs": [
    {
     "data": {
      "text/plain": [
       "['W11a', 'X16a', 'Y16a', 'Z11a']"
      ]
     },
     "execution_count": 128,
     "metadata": {},
     "output_type": "execute_result"
    }
   ],
   "source": [
    "first_four_slots"
   ]
  },
  {
   "cell_type": "code",
   "execution_count": 129,
   "metadata": {},
   "outputs": [
    {
     "name": "stdout",
     "output_type": "stream",
     "text": [
      "W11a Illinois 3228 3280\n",
      "X16a Sacred Heart 3357 3380\n",
      "Y16a Monmouth NJ 3284 3399\n",
      "Z11a Purdue 3345 3385\n"
     ]
    }
   ],
   "source": [
    "# First Four results -> TO BE UPDATED\n",
    "\n",
    "for i in first_four_slots:\n",
    "    print(i, team_id_to_name[seed_to_team_id[i]], seed_to_team_id[i], seed_to_team_id[i.replace(\"a\", \"b\")])"
   ]
  },
  {
   "cell_type": "code",
   "execution_count": 130,
   "metadata": {},
   "outputs": [],
   "source": [
    "seed_to_team_id['W11'] = 3280\n",
    "seed_to_team_id['X16'] = 3357\n",
    "# seed_to_team_id['Y16a'] = 3284\n",
    "# seed_to_team_id['Z11a'] = 3345"
   ]
  },
  {
   "cell_type": "code",
   "execution_count": 131,
   "metadata": {},
   "outputs": [],
   "source": [
    "remaining_first_four_seeds = [\"Y16\", \"Z11\"]"
   ]
  },
  {
   "cell_type": "code",
   "execution_count": 132,
   "metadata": {},
   "outputs": [],
   "source": [
    "# From the first four\n",
    "losers = [3228, 3380]"
   ]
  },
  {
   "cell_type": "code",
   "execution_count": 133,
   "metadata": {},
   "outputs": [],
   "source": [
    "# Get the mapping of round to potential opponents\n",
    "\n",
    "df_slots = pd.read_csv(f\"{DATA_PATH}NCAATourneySlots.csv\").query(\n",
    "    f\"Season == {SEASON}\").drop(columns=[\"Season\"]).reset_index(drop=True)\n",
    "\n",
    "\n",
    "df_slots['round'] = df_slots[\"Slot\"].apply(lambda x: int(x[1]) if x[0] == \"R\" else 0)\n",
    "\n",
    "\n",
    "slot_to_teams:Dict[str,Set[str]] = dict()\n",
    "round_to_team_to_opponents:Dict[int,Dict[str,Set[str]]] = defaultdict(\n",
    "    lambda: defaultdict(set))\n",
    "\n",
    "# For each slot get the possible opponents\n",
    "# Slot = e.g. R1W2 -> Round 1, the match which W02 seed would play \n",
    "# in as the strong seed\n",
    "\n",
    "for _, row in df_slots.sort_values(by=['round']).iterrows():\n",
    "    slot = row['Slot']\n",
    "    if 'R' in slot or slot in remaining_first_four_seeds:\n",
    "        rd = row['round']\n",
    "\n",
    "        strong = row['StrongSeed']  # e.g. W02 or R1W2\n",
    "\n",
    "        # The teams feeding into the strong seed's previous match\n",
    "        weak_opponents = slot_to_teams.get(strong, {strong})\n",
    "\n",
    "        # Get the weak sided equivalent\n",
    "        weak = row['WeakSeed']\n",
    "        strong_opponents = slot_to_teams.get(weak, {weak})\n",
    "\n",
    "        # Update register\n",
    "        for wk in weak_opponents:\n",
    "            for st in strong_opponents:\n",
    "                round_to_team_to_opponents[rd][st].add(wk)\n",
    "                round_to_team_to_opponents[rd][wk].add(st)\n",
    "\n",
    "\n",
    "        teams = strong_opponents.union(weak_opponents)\n",
    "        slot_to_teams[slot]= teams"
   ]
  },
  {
   "cell_type": "code",
   "execution_count": 134,
   "metadata": {},
   "outputs": [],
   "source": [
    "# Set up team ratings\n",
    "round_to_team_id_to_rating: Dict[int,Dict[int,float]] = defaultdict(lambda: defaultdict(float))\n",
    "for team_id, dd in dancers_dicts.items():\n",
    "    round_to_team_id_to_rating[1][team_id] = dd['rating']\n",
    "    \n",
    "# Set up record of probability of a team reaching round N\n",
    "round_to_team_id_to_prob: Dict[int,Dict[int,float]] = defaultdict(lambda: defaultdict(float))\n",
    "for team_id, dd in dancers_dicts.items():\n",
    "    if team_id in losers:\n",
    "        p = 0\n",
    "    else:\n",
    "        p = 1\n",
    "    round_to_team_id_to_prob[1][team_id] = p\n",
    "    \n",
    "# All 6 championship rounds\n",
    "for rd in range(0,7):\n",
    "    # Get the matches for the round\n",
    "    rd_matches = round_to_team_to_opponents[rd]\n",
    "    \n",
    "    # For each team and set of opponents\n",
    "    for team, opponents in rd_matches.items():\n",
    "        # Only do once per matchup\n",
    "        for opponent in opponents:\n",
    "            if team < opponent:\n",
    "                \n",
    "                # Set team ids\n",
    "                team_id = seed_to_team_id[team]\n",
    "                opponent_id = seed_to_team_id[opponent]\n",
    "\n",
    "                # Set team 1 and team 2 by using min team id as team 1\n",
    "                if team_id < opponent_id:\n",
    "                    team_1 = team_id\n",
    "                    team_2 = opponent_id\n",
    "                    team_1_seed = team\n",
    "                    team_2_seed = opponent\n",
    "                else:\n",
    "                    team_2 = team_id\n",
    "                    team_1 = opponent_id\n",
    "                    team_2_seed = team\n",
    "                    team_1_seed = opponent\n",
    "\n",
    "                # Get current ratings\n",
    "                team_1_rating = round_to_team_id_to_rating[rd][team_1]\n",
    "                team_2_rating = round_to_team_id_to_rating[rd][team_2]\n",
    "                \n",
    "                # Get stats and latest rating\n",
    "                team_1_stats = {**dancers_dicts[team_1], **{'rating': team_1_rating}}\n",
    "                team_2_stats = {**dancers_dicts[team_2], **{'rating': team_2_rating}}\n",
    "                \n",
    "                # Predict matchup\n",
    "                prediction = elo.predict(team_1_stats, team_2_stats)\n",
    "                \n",
    "                # Save prediction\n",
    "                matchup_id = f\"{SEASON}_{team_1}_{team_2}\"\n",
    "\n",
    "                # Update ratings probabilistically\n",
    "                if rd < 6:\n",
    "                    \n",
    "                    # Assume point win of 8\n",
    "                    point_diff = 8\n",
    "                    result_likelihood = max(elo.response(point_diff, 'N'), prediction + 0.02)\n",
    "                    # Update team 1's rating if they had beaten this opponent\n",
    "                    team_1_new = elo.update(prediction, result_likelihood, team_1_rating, elo.K)\n",
    "                    \n",
    "                    prob_playing_opponent = round_to_team_id_to_prob[rd][team_2]\n",
    "                        \n",
    "                    # The expected rating at this stage should be the new rating\n",
    "                    # multiplied the probability this matchup occurred\n",
    "                    round_to_team_id_to_rating[rd+1][team_1] += team_1_new * prob_playing_opponent\n",
    "                    # Prob of making it to next round is the prob they made it to this round\n",
    "                    # X by prob they win this match X prob opponent was their opponent\n",
    "                    round_to_team_id_to_prob[rd+1][team_1] += (prediction * prob_playing_opponent\n",
    "                                                              ) * round_to_team_id_to_prob[rd][team_1]\n",
    "\n",
    "                    # Repeat for other team\n",
    "                    point_diff = 8\n",
    "                    result_likelihood = max(elo.response(point_diff, 'N'), 1-prediction + 0.02)\n",
    "                    team_2_new = elo.update(1-prediction, result_likelihood, team_2_rating, elo.K)\n",
    "\n",
    "                    \n",
    "                    prob_playing_opponent = round_to_team_id_to_prob[rd][team_1]\n",
    "                    \n",
    "                    round_to_team_id_to_rating[rd+1][team_2] += team_2_new * prob_playing_opponent\n",
    "                    round_to_team_id_to_prob[rd+1][team_2] += ((1-prediction) * prob_playing_opponent\n",
    "                                                              ) * round_to_team_id_to_prob[rd][team_2]\n",
    "                    \n",
    "\n",
    "                predictions.append((matchup_id\n",
    "                                    , prediction))\n",
    "                predictions_named.append((team_1_stats['TeamName'], team_2_stats['TeamName']\n",
    "                                    , prediction))"
   ]
  },
  {
   "cell_type": "code",
   "execution_count": 135,
   "metadata": {},
   "outputs": [],
   "source": [
    "# Check out a top seed for sanity\n",
    "team_id = seed_to_team_id['Z01']"
   ]
  },
  {
   "cell_type": "code",
   "execution_count": 136,
   "metadata": {},
   "outputs": [
    {
     "data": {
      "text/plain": [
       "{'seed': 1,\n",
       " 'TeamName': 'Virginia Tech',\n",
       " 'FGP3': 0.35611739765798417,\n",
       " 'FGP': 0.4536766229737584,\n",
       " 'R': 33.50000000000001,\n",
       " 'rating': 853.8857917212723}"
      ]
     },
     "execution_count": 136,
     "metadata": {},
     "output_type": "execute_result"
    }
   ],
   "source": [
    "dancers_dicts[team_id]"
   ]
  },
  {
   "cell_type": "code",
   "execution_count": 137,
   "metadata": {},
   "outputs": [
    {
     "name": "stdout",
     "output_type": "stream",
     "text": [
      "1\n",
      "0.99\n",
      "0.7231869724824819\n",
      "0.45518300064078193\n",
      "0.07404860589025802\n",
      "0.08332174026488805\n"
     ]
    }
   ],
   "source": [
    "for rd in [1,2,3,4,5,6]:\n",
    "    print(round_to_team_id_to_prob[rd][team_id])"
   ]
  },
  {
   "cell_type": "code",
   "execution_count": 149,
   "metadata": {},
   "outputs": [],
   "source": [
    "sample_df = pd.read_csv(f\"{DATA_PATH[:-2]}/SampleSubmission{SEASON}.csv\")"
   ]
  },
  {
   "cell_type": "code",
   "execution_count": 150,
   "metadata": {},
   "outputs": [],
   "source": [
    "# Womens\n",
    "if team_id > 3000:\n",
    "    sample_submission_rows = sample_submission.query(f\"ID > '{SEASON}_3'\")\n",
    "# Mens\n",
    "else:\n",
    "    sample_submission_rows = sample_submission.query(f\"ID < '{SEASON}_3'\")"
   ]
  },
  {
   "cell_type": "code",
   "execution_count": 152,
   "metadata": {},
   "outputs": [],
   "source": [
    "prediction_df = pd.DataFrame(predictions, columns = ['ID', 'Pred'])"
   ]
  },
  {
   "cell_type": "code",
   "execution_count": 153,
   "metadata": {},
   "outputs": [],
   "source": [
    "prediction_ids = set(prediction_df['ID'])"
   ]
  },
  {
   "cell_type": "code",
   "execution_count": 154,
   "metadata": {},
   "outputs": [],
   "source": [
    "sample_submission_rows = sample_submission_rows[\n",
    "    ~sample_submission_rows[\"ID\"].isin(prediction_ids)]"
   ]
  },
  {
   "cell_type": "code",
   "execution_count": 158,
   "metadata": {},
   "outputs": [
    {
     "data": {
      "text/html": [
       "<div>\n",
       "<style scoped>\n",
       "    .dataframe tbody tr th:only-of-type {\n",
       "        vertical-align: middle;\n",
       "    }\n",
       "\n",
       "    .dataframe tbody tr th {\n",
       "        vertical-align: top;\n",
       "    }\n",
       "\n",
       "    .dataframe thead th {\n",
       "        text-align: right;\n",
       "    }\n",
       "</style>\n",
       "<table border=\"1\" class=\"dataframe\">\n",
       "  <thead>\n",
       "    <tr style=\"text-align: right;\">\n",
       "      <th></th>\n",
       "      <th>ID</th>\n",
       "      <th>Pred</th>\n",
       "    </tr>\n",
       "  </thead>\n",
       "  <tbody>\n",
       "    <tr>\n",
       "      <th>0</th>\n",
       "      <td>2023_3345_3385</td>\n",
       "      <td>0.516549</td>\n",
       "    </tr>\n",
       "    <tr>\n",
       "      <th>1</th>\n",
       "      <td>2023_3284_3399</td>\n",
       "      <td>0.517107</td>\n",
       "    </tr>\n",
       "    <tr>\n",
       "      <th>2</th>\n",
       "      <td>2023_3195_3450</td>\n",
       "      <td>0.403539</td>\n",
       "    </tr>\n",
       "    <tr>\n",
       "      <th>3</th>\n",
       "      <td>2023_3276_3424</td>\n",
       "      <td>0.762644</td>\n",
       "    </tr>\n",
       "    <tr>\n",
       "      <th>4</th>\n",
       "      <td>2023_3301_3343</td>\n",
       "      <td>0.255675</td>\n",
       "    </tr>\n",
       "    <tr>\n",
       "      <th>...</th>\n",
       "      <td>...</td>\n",
       "      <td>...</td>\n",
       "    </tr>\n",
       "    <tr>\n",
       "      <th>64975</th>\n",
       "      <td>2023_3474_3476</td>\n",
       "      <td>0.500000</td>\n",
       "    </tr>\n",
       "    <tr>\n",
       "      <th>64976</th>\n",
       "      <td>2023_3474_3477</td>\n",
       "      <td>0.500000</td>\n",
       "    </tr>\n",
       "    <tr>\n",
       "      <th>64977</th>\n",
       "      <td>2023_3475_3476</td>\n",
       "      <td>0.500000</td>\n",
       "    </tr>\n",
       "    <tr>\n",
       "      <th>64978</th>\n",
       "      <td>2023_3475_3477</td>\n",
       "      <td>0.500000</td>\n",
       "    </tr>\n",
       "    <tr>\n",
       "      <th>64979</th>\n",
       "      <td>2023_3476_3477</td>\n",
       "      <td>0.500000</td>\n",
       "    </tr>\n",
       "  </tbody>\n",
       "</table>\n",
       "<p>64980 rows × 2 columns</p>\n",
       "</div>"
      ],
      "text/plain": [
       "                   ID      Pred\n",
       "0      2023_3345_3385  0.516549\n",
       "1      2023_3284_3399  0.517107\n",
       "2      2023_3195_3450  0.403539\n",
       "3      2023_3276_3424  0.762644\n",
       "4      2023_3301_3343  0.255675\n",
       "...               ...       ...\n",
       "64975  2023_3474_3476  0.500000\n",
       "64976  2023_3474_3477  0.500000\n",
       "64977  2023_3475_3476  0.500000\n",
       "64978  2023_3475_3477  0.500000\n",
       "64979  2023_3476_3477  0.500000\n",
       "\n",
       "[64980 rows x 2 columns]"
      ]
     },
     "execution_count": 158,
     "metadata": {},
     "output_type": "execute_result"
    }
   ],
   "source": [
    "pd.concat([prediction_df, sample_submission_rows], ignore_index=True)"
   ]
  },
  {
   "cell_type": "code",
   "execution_count": 161,
   "metadata": {},
   "outputs": [],
   "source": []
  },
  {
   "cell_type": "code",
   "execution_count": 166,
   "metadata": {},
   "outputs": [],
   "source": [
    "# Save submissions\n",
    "final_out_df = pd.concat([prediction_df, sample_submission_rows], ignore_index=True)\n",
    "timestamp = datetime.datetime.now().strftime(\"%Y-%m-%dT%H:%M\")\n",
    "final_out_df.to_csv(f'../submissions/ids/WOMENS_{timestamp}_{k}_{seed}_{link}_{fgp}_{fgp3}_{r}.csv', index=False)\n",
    "\n",
    "prediction_named_df = pd.DataFrame(predictions_named, columns = ['Team1', 'Team2', 'Pred'])\n",
    "\n",
    "prediction_named_df.to_csv(f'../submissions/names/WOMENS_{timestamp}_{k}_{seed}_{link}_{fgp}_{fgp3}_{r}.csv', index=False)"
   ]
  }
 ],
 "metadata": {
  "kernelspec": {
   "display_name": "Python 3 (ipykernel)",
   "language": "python",
   "name": "python3"
  },
  "language_info": {
   "codemirror_mode": {
    "name": "ipython",
    "version": 3
   },
   "file_extension": ".py",
   "mimetype": "text/x-python",
   "name": "python",
   "nbconvert_exporter": "python",
   "pygments_lexer": "ipython3",
   "version": "3.9.7"
  }
 },
 "nbformat": 4,
 "nbformat_minor": 2
}
