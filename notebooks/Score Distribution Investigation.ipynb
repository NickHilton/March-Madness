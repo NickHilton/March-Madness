{
 "cells": [
  {
   "cell_type": "code",
   "execution_count": 1,
   "metadata": {},
   "outputs": [],
   "source": [
    "import sys\n",
    "sys.path.append('../')\n",
    "import os\n",
    "os.environ['DATABASE_URL'] = DATABASE_URL = 'sqlite:////Users/nickhilton/kaggle/march_madness/databases/turtle.db'\n",
    "DATABASE = os.environ['DATABASE_URL'].split('sqlite:///')[1]\n",
    "\n",
    "import pandas as pd\n",
    "from sqlalchemy import *\n",
    "from sqlalchemy.orm import *\n",
    "from sqlalchemy.orm import sessionmaker\n",
    "from models import Match\n",
    "from models import Team\n",
    "from models import MatchPredictions\n",
    "import matplotlib.pyplot as plt"
   ]
  },
  {
   "cell_type": "code",
   "execution_count": 2,
   "metadata": {},
   "outputs": [],
   "source": [
    "engine = create_engine(DATABASE_URL)\n",
    "Session = sessionmaker(bind=engine)\n",
    "\n",
    "session = Session()"
   ]
  },
  {
   "cell_type": "code",
   "execution_count": 3,
   "metadata": {},
   "outputs": [
    {
     "data": {
      "text/plain": [
       "<model_definitions.team.Team at 0x103204c40>"
      ]
     },
     "execution_count": 3,
     "metadata": {},
     "output_type": "execute_result"
    }
   ],
   "source": [
    "session.query(Team).first()"
   ]
  },
  {
   "cell_type": "code",
   "execution_count": 4,
   "metadata": {},
   "outputs": [],
   "source": [
    "s = session.query(MatchPredictions).filter(MatchPredictions.season == 2010)"
   ]
  },
  {
   "cell_type": "code",
   "execution_count": 5,
   "metadata": {
    "code_folding": []
   },
   "outputs": [],
   "source": [
    "matches = session.query(Match).filter(Match.Season == 2011).all()\n",
    "\n",
    "teams = []\n",
    "\n",
    "for match in matches:\n",
    "    teams.extend(match.teams)\n",
    "\n",
    "teams = list(set(teams))\n",
    "team_ids = [team.TeamID for team in teams]"
   ]
  },
  {
   "cell_type": "code",
   "execution_count": 8,
   "metadata": {},
   "outputs": [],
   "source": [
    "matches = session.query(Match.mdid, Match.Season, Match.WScore, Match.LScore, \n",
    "              Match.stage, Match.WLoc, Match.NumOT).filter(Match.Season >= 2003).all()\n",
    "\n",
    "df = pd.DataFrame(matches)\n",
    "\n",
    "df['delta'] = df.WScore - df.LScore\n",
    "\n",
    "df.loc[df['NumOT'] > 0, 'delta'] = 0"
   ]
  },
  {
   "cell_type": "code",
   "execution_count": null,
   "metadata": {},
   "outputs": [],
   "source": []
  },
  {
   "cell_type": "code",
   "execution_count": null,
   "metadata": {},
   "outputs": [],
   "source": []
  },
  {
   "cell_type": "code",
   "execution_count": 9,
   "metadata": {},
   "outputs": [],
   "source": [
    "def calculate_distribution(results):\n",
    "    delta_counts = results.groupby(by='delta').mdid.count()\n",
    "    total = delta_counts.sum()\n",
    "    densityf = delta_counts/total\n",
    "    cumdf = densityf.cumsum()\n",
    "    return cumdf"
   ]
  },
  {
   "cell_type": "code",
   "execution_count": 10,
   "metadata": {},
   "outputs": [
    {
     "name": "stderr",
     "output_type": "stream",
     "text": [
      "/var/folders/51/f34q3vy907ggv81__1wckfyc0000gn/T/ipykernel_11185/1064317663.py:1: FutureWarning: The frame.append method is deprecated and will be removed from pandas in a future version. Use pandas.concat instead.\n",
      "  neutrals = (df.loc[df['WLoc'] == 'N',['delta','mdid']]).append(-df.loc[df['WLoc'] == 'N',['delta','mdid']])\n",
      "/var/folders/51/f34q3vy907ggv81__1wckfyc0000gn/T/ipykernel_11185/1064317663.py:3: FutureWarning: The frame.append method is deprecated and will be removed from pandas in a future version. Use pandas.concat instead.\n",
      "  homes = (df.loc[df['WLoc'] == 'H',['delta','mdid']]).append(-df.loc[df['WLoc'] == 'A',['delta','mdid']])\n"
     ]
    }
   ],
   "source": [
    "neutrals = (df.loc[df['WLoc'] == 'N',['delta','mdid']]).append(-df.loc[df['WLoc'] == 'N',['delta','mdid']])\n",
    "\n",
    "homes = (df.loc[df['WLoc'] == 'H',['delta','mdid']]).append(-df.loc[df['WLoc'] == 'A',['delta','mdid']])\n",
    "\n",
    "aways = -homes"
   ]
  },
  {
   "cell_type": "code",
   "execution_count": null,
   "metadata": {},
   "outputs": [],
   "source": []
  },
  {
   "cell_type": "code",
   "execution_count": 11,
   "metadata": {},
   "outputs": [
    {
     "name": "stderr",
     "output_type": "stream",
     "text": [
      "/var/folders/51/f34q3vy907ggv81__1wckfyc0000gn/T/ipykernel_11185/1539519251.py:4: MatplotlibDeprecationWarning: The 'b' parameter of grid() has been renamed 'visible' since Matplotlib 3.5; support for the old name will be dropped two minor releases later.\n",
      "  plt.grid(b='on')\n"
     ]
    },
    {
     "data": {
      "text/plain": [
       "<matplotlib.legend.Legend at 0x11eef4fd0>"
      ]
     },
     "execution_count": 11,
     "metadata": {},
     "output_type": "execute_result"
    },
    {
     "data": {
      "image/png": "[encoded data removed]",
      "text/plain": [
       "<Figure size 432x288 with 1 Axes>"
      ]
     },
     "metadata": {
      "needs_background": "light"
     },
     "output_type": "display_data"
    }
   ],
   "source": [
    "plt.plot(calculate_distribution(neutrals), label = 'neutral')\n",
    "plt.plot(calculate_distribution(homes), label = 'home')\n",
    "plt.plot(calculate_distribution(aways), label = 'away')\n",
    "plt.grid(b='on')\n",
    "plt.legend()"
   ]
  },
  {
   "cell_type": "code",
   "execution_count": null,
   "metadata": {},
   "outputs": [],
   "source": []
  },
  {
   "cell_type": "code",
   "execution_count": 13,
   "metadata": {},
   "outputs": [],
   "source": [
    "dist = calculate_distribution(homes)"
   ]
  },
  {
   "cell_type": "code",
   "execution_count": 14,
   "metadata": {},
   "outputs": [],
   "source": [
    "def response_function(result, distribution):\n",
    "    if result < distribution.index[0]:\n",
    "        raise Exception\n",
    "    if result in distribution:\n",
    "        return distribution[result]\n",
    "    else:\n",
    "        return response_function(result-1, distribution)"
   ]
  },
  {
   "cell_type": "code",
   "execution_count": 15,
   "metadata": {},
   "outputs": [],
   "source": [
    "fields = []"
   ]
  },
  {
   "cell_type": "code",
   "execution_count": 17,
   "metadata": {},
   "outputs": [],
   "source": [
    "metrics = session.query(Match).options(load_only(*fields)).filter(Match.Season >= 2003).all()"
   ]
  },
  {
   "cell_type": "code",
   "execution_count": 18,
   "metadata": {},
   "outputs": [],
   "source": [
    "m = session.query(Match).filter(Match.Season > 2010).first()"
   ]
  },
  {
   "cell_type": "code",
   "execution_count": null,
   "metadata": {},
   "outputs": [],
   "source": [
    "dir(m)"
   ]
  },
  {
   "cell_type": "code",
   "execution_count": null,
   "metadata": {},
   "outputs": [],
   "source": [
    "m.__getattribute__('id')"
   ]
  },
  {
   "cell_type": "code",
   "execution_count": null,
   "metadata": {},
   "outputs": [],
   "source": []
  },
  {
   "cell_type": "code",
   "execution_count": null,
   "metadata": {},
   "outputs": [],
   "source": []
  },
  {
   "cell_type": "code",
   "execution_count": null,
   "metadata": {},
   "outputs": [],
   "source": []
  },
  {
   "cell_type": "code",
   "execution_count": null,
   "metadata": {},
   "outputs": [],
   "source": [
    "dir(m)"
   ]
  },
  {
   "cell_type": "code",
   "execution_count": null,
   "metadata": {},
   "outputs": [],
   "source": []
  }
 ],
 "metadata": {
  "kernelspec": {
   "display_name": "Python 3 (ipykernel)",
   "language": "python",
   "name": "python3"
  },
  "language_info": {
   "codemirror_mode": {
    "name": "ipython",
    "version": 3
   },
   "file_extension": ".py",
   "mimetype": "text/x-python",
   "name": "python",
   "nbconvert_exporter": "python",
   "pygments_lexer": "ipython3",
   "version": "3.9.7"
  }
 },
 "nbformat": 4,
 "nbformat_minor": 2
}