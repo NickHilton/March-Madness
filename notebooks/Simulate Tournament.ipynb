{
 "cells": [
  {
   "cell_type": "code",
   "execution_count": 241,
   "metadata": {},
   "outputs": [],
   "source": [
    "import sys\n",
    "sys.path.append('../')\n",
    "import os\n",
    "\n",
    "DATABASE = os.environ['DATABASE_URL'].split('sqlite:///')[1]\n",
    "\n",
    "# Env vars for Men / Women's tournament\n",
    "DATA_PATH = os.environ['DATA_PATH'] + \"/\" + os.environ[\"DATA_PREFIX\"]\n",
    "gender = \"WOMENS\" if os.environ[\"DATA_PREFIX\"] == \"W\" else \"MENS\"\n",
    "\n",
    "\n",
    "import pandas as pd\n",
    "import numpy as np"
   ]
  },
  {
   "cell_type": "code",
   "execution_count": 221,
   "metadata": {},
   "outputs": [],
   "source": [
    "from models import Seed, engine, Team, Match, MatchPredictions, SEASON\n",
    "from elo_run.response_function import home_response, away_response, neutral_response\n",
    "from elo_run.param_tuning import run_system, set_up_elo_model, link_function_list\n",
    "\n",
    "import pandas as pd\n",
    "import datetime\n",
    "from typing import Dict, Set\n",
    "\n",
    "from collections import defaultdict\n",
    "\n",
    "from sqlalchemy.orm import sessionmaker\n",
    "from sqlalchemy import func, and_\n",
    "import random\n",
    "from collections import defaultdict\n",
    "\n",
    "Session = sessionmaker(bind=engine)\n",
    "\n",
    "session = Session()"
   ]
  },
  {
   "cell_type": "code",
   "execution_count": 132,
   "metadata": {},
   "outputs": [],
   "source": [
    "SEASON=2023"
   ]
  },
  {
   "cell_type": "code",
   "execution_count": 133,
   "metadata": {},
   "outputs": [],
   "source": [
    "row = \"\"\"25 \t-35.0 \tN \t1200.0 \t20.0 \t0.0 \t5.0\"\"\"\n",
    "description = \"high_rating_low_seed\""
   ]
  },
  {
   "cell_type": "code",
   "execution_count": 134,
   "metadata": {},
   "outputs": [],
   "source": [
    "vals = row.split(\" \t\")"
   ]
  },
  {
   "cell_type": "code",
   "execution_count": 135,
   "metadata": {},
   "outputs": [],
   "source": [
    "# Define a system, and get match predictions\n",
    "k = int(vals[0])\n",
    "seed = float(vals[1])\n",
    "link = vals[2]\n",
    "link_function = link_function_list[link]\n",
    "fgp = float(vals[3])\n",
    "reb = float(vals[4])\n",
    "fgp3 = float(vals[5])\n",
    "rating = float(vals[6])\n",
    "\n",
    "elo = set_up_elo_model(k=k, seed=seed, link_function=link_function, \n",
    "                       fgp=fgp, fgp3=fgp3, r=reb, rating=rating)\n",
    "\n",
    "\n",
    "\n"
   ]
  },
  {
   "cell_type": "code",
   "execution_count": 136,
   "metadata": {},
   "outputs": [
    {
     "name": "stderr",
     "output_type": "stream",
     "text": [
      "/Users/nickhilton/.virtualenvs/march_madness/lib/python3.11/site-packages/numpy/core/fromnumeric.py:3504: RuntimeWarning: Mean of empty slice.\n",
      "  return _methods._mean(a, axis=axis, dtype=dtype,\n",
      "/Users/nickhilton/.virtualenvs/march_madness/lib/python3.11/site-packages/numpy/core/_methods.py:129: RuntimeWarning: invalid value encountered in scalar divide\n",
      "  ret = ret.dtype.type(ret / rcount)\n"
     ]
    },
    {
     "name": "stdout",
     "output_type": "stream",
     "text": [
      "No ratings found, using default rating\n",
      "Default rating: 1500\n",
      "Default rating: 1537.038097358821\n",
      "Default rating: 1568.5621250824413\n",
      "Default rating: 1599.1859393592376\n",
      "Default rating: 1630.678417303562\n",
      "Default rating: 1661.3996182048834\n",
      "Default rating: 1691.7382855568947\n",
      "Default rating: 1723.659004093975\n",
      "Default rating: 1756.1935805777603\n",
      "Default rating: 1788.6061642687675\n",
      "Default rating: 1823.3649371845822\n",
      "Default rating: 1856.1325250607097\n",
      "Default rating: 1881.624184178281\n",
      "Default rating: 1912.8600685636839\n"
     ]
    },
    {
     "name": "stderr",
     "output_type": "stream",
     "text": [
      "/var/folders/51/f34q3vy907ggv81__1wckfyc0000gn/T/ipykernel_30030/1472842644.py:3: UserWarning: pandas only supports SQLAlchemy connectable (engine/connection) or database string URI or sqlite3 DBAPI2 connection. Other DBAPI2 objects are not tested. Please consider using SQLAlchemy.\n",
      "  match_predictions.to_sql(\n"
     ]
    }
   ],
   "source": [
    "match_predictions = run_system(elo, SEASON)\n",
    "with engine.connect() as conn:\n",
    "    match_predictions.to_sql(\n",
    "        con=conn.connection, index=False, name=MatchPredictions.__tablename__, if_exists=\"replace\"\n",
    "    )"
   ]
  },
  {
   "cell_type": "code",
   "execution_count": 137,
   "metadata": {},
   "outputs": [],
   "source": [
    "# Get the team id to name\n",
    "team_id_to_name = {x:y for x,y in session.query(Team.TeamID, Team.TeamName).all()}"
   ]
  },
  {
   "cell_type": "code",
   "execution_count": 138,
   "metadata": {},
   "outputs": [],
   "source": [
    "# Get all teams in the tournament for predicting\n",
    "dancers = pd.DataFrame(session.query(Seed.TeamID, Seed.Seed.label('seed'), Seed.SeedSlot.label('seedSlot')\n",
    "                                    ).filter(Seed.Season==SEASON).all())\n",
    "\n",
    "dancers_df = dancers.sort_values(by='TeamID').set_index('TeamID', drop = True)\n",
    "dancers_df = dancers_df.join(pd.DataFrame.from_dict(team_id_to_name, orient='index', \n",
    "                                                    columns=['TeamName']), how='left')"
   ]
  },
  {
   "cell_type": "code",
   "execution_count": 139,
   "metadata": {},
   "outputs": [],
   "source": [
    "# Get the most recent stats before the tournament\n",
    "def get_most_recent_stats(Season):\n",
    "    \"\"\"\n",
    "    For a given Season, get the most recent stats available\n",
    "    :param Season:\n",
    "    :return:\n",
    "    \"\"\"\n",
    "    Session = sessionmaker(bind=engine)\n",
    "    session = Session()\n",
    "\n",
    "    q = session.query(Team.TeamID, func.max(Match.mdid).label('mdid')).join(\n",
    "    Match.teams).filter(Match.Season == Season).group_by(Team.TeamID).subquery()\n",
    "\n",
    "    winners = list(session.query(Match.WTeamID, Match.WFGP3_avg, Match.WFGP_avg, Match.WR_avg, MatchPredictions.WTeamRatingAfter).join(\n",
    "    q, and_(Match.WTeamID==q.c.TeamID, Match.mdid == q.c.mdid)\n",
    "                                                                       ).join(MatchPredictions).all())\n",
    "\n",
    "    losers = list(session.query(Match.LTeamID, Match.LFGP3_avg, Match.LFGP_avg, Match.LR_avg, MatchPredictions.LTeamRatingAfter).join(\n",
    "    q, and_(Match.LTeamID==q.c.TeamID, Match.mdid == q.c.mdid)\n",
    "                                                                       ).join(MatchPredictions).all())\n",
    "\n",
    "    all_stats = winners + losers\n",
    "    \n",
    "    df = pd.DataFrame(all_stats, columns = ['TeamID', 'FGP3', 'FGP', 'R','rating'])\n",
    "    df.set_index('TeamID', inplace = True, drop = True)\n",
    "\n",
    "    return df\n",
    "\n",
    "dancer_to_stats = get_most_recent_stats(SEASON)"
   ]
  },
  {
   "cell_type": "code",
   "execution_count": 140,
   "metadata": {},
   "outputs": [],
   "source": [
    "full_df = dancers_df.merge(dancer_to_stats, left_index = True, right_index = True)\n",
    "\n",
    "dancers_dicts = full_df.to_dict(orient='index')"
   ]
  },
  {
   "cell_type": "code",
   "execution_count": 141,
   "metadata": {},
   "outputs": [],
   "source": [
    "response_fns = {\n",
    "    'H': home_response,\n",
    "    'A': away_response,\n",
    "    'N': neutral_response\n",
    "}\n",
    "\n",
    "predictions = []\n",
    "predictions_named = []"
   ]
  },
  {
   "cell_type": "code",
   "execution_count": 161,
   "metadata": {},
   "outputs": [],
   "source": [
    "seed_to_team_id = full_df.reset_index(drop=False).set_index(\"seedSlot\").to_dict()['TeamID']"
   ]
  },
  {
   "cell_type": "code",
   "execution_count": 162,
   "metadata": {},
   "outputs": [],
   "source": [
    "first_four_slots = [x for x in seed_to_team_id if 'a' in x]"
   ]
  },
  {
   "cell_type": "code",
   "execution_count": 163,
   "metadata": {},
   "outputs": [],
   "source": [
    "def get_match(team_a, team_b):\n",
    "    if team_a < team_b:\n",
    "        return team_a * 100_000 + team_b\n",
    "    return team_b * 100_000 + team_a\n"
   ]
  },
  {
   "cell_type": "code",
   "execution_count": 164,
   "metadata": {},
   "outputs": [],
   "source": [
    "tourney_match_to_winner = pd.DataFrame(session.query(Match.MatchID, Match.WTeamID, Match.LTeamID\n",
    "                               ).filter(Match.Season == SEASON).filter(Match.stage == 'T').all()).set_index(\n",
    "'MatchID').to_dict()['WTeamID']"
   ]
  },
  {
   "cell_type": "code",
   "execution_count": 165,
   "metadata": {},
   "outputs": [
    {
     "data": {
      "text/plain": [
       "['Z11a', 'W16a', 'Y11a', 'X16a']"
      ]
     },
     "execution_count": 165,
     "metadata": {},
     "output_type": "execute_result"
    }
   ],
   "source": [
    "first_four_slots"
   ]
  },
  {
   "cell_type": "code",
   "execution_count": 167,
   "metadata": {},
   "outputs": [],
   "source": [
    "# First Four results -> TO BE UPDATED\n",
    "losers = []\n",
    "remaining = []\n",
    "for i in first_four_slots:\n",
    "    other = i.replace(\"a\", \"b\")\n",
    "    team_a = seed_to_team_id[i]\n",
    "    team_b = seed_to_team_id[other]\n",
    "    match = get_match(team_a, team_b)\n",
    "    match_winner = tourney_match_to_winner.get(match, team_a)\n",
    "    match_loser = list({team_a, team_b}.difference({match_winner}))[0]\n",
    "    seed = i[:3]\n",
    "    seed_to_team_id[seed] = match_winner\n",
    "    del seed_to_team_id[i]\n",
    "    del seed_to_team_id[other]\n",
    "    losers.append(match_loser)"
   ]
  },
  {
   "cell_type": "code",
   "execution_count": 168,
   "metadata": {},
   "outputs": [],
   "source": [
    "team_id_to_seed = {v:k for k,v in seed_to_team_id.items()}"
   ]
  },
  {
   "cell_type": "code",
   "execution_count": 226,
   "metadata": {},
   "outputs": [],
   "source": [
    "def generate_bracket(bracket_ix):\n",
    "    \n",
    "    output_rows = []\n",
    "\n",
    "    df_tourney_slots = pd.read_csv(f\"{DATA_PATH}NCAATourneySlots.csv\").query(\n",
    "        f\"Season == {SEASON}\").drop(columns=[\"Season\"]).reset_index(drop=True)\n",
    "\n",
    "    df_tourney_slots['round'] = df_tourney_slots[\"Slot\"].apply(lambda x: int(x[1]) if x[0] == \"R\" else 0)\n",
    "\n",
    "    df_tourney_slots = df_tourney_slots.query(\"round > 0\")\n",
    "    simulation_dicts = {k:{k1:v1 for k1, v1 in v.items()} for k,v in dancers_dicts.items()}\n",
    "\n",
    "\n",
    "    for _, row in df_tourney_slots.iterrows():\n",
    "        slot = row['Slot']\n",
    "        rd = row['round']\n",
    "\n",
    "        team_1 = seed_to_team_id[row['StrongSeed']]\n",
    "\n",
    "        team_2 = seed_to_team_id[row['WeakSeed']]\n",
    "        \n",
    "\n",
    "\n",
    "        team_1_stats = {**simulation_dicts[team_1]}\n",
    "        team_2_stats = {**simulation_dicts[team_2]}\n",
    "\n",
    "        prediction = elo.predict(team_1_stats, team_2_stats)\n",
    "\n",
    "        result = random.random()\n",
    "\n",
    "        if result < prediction:\n",
    "            seed_to_team_id[slot] = team_1\n",
    "            point_diff = 8\n",
    "            result_likelihood = max(elo.response(point_diff, 'N'), prediction + 0.02)\n",
    "            team_1_new = elo.update(prediction, result_likelihood, team_1_stats['rating'], elo.K)\n",
    "            simulation_dicts[team_1]['rating'] = team_1_new\n",
    "            winner = team_1\n",
    "\n",
    "        else:\n",
    "            seed_to_team_id[slot] = team_2\n",
    "            point_diff = 8\n",
    "            result_likelihood = max(elo.response(point_diff, 'N'), 1-prediction + 0.02)\n",
    "            team_2_new = elo.update(1-prediction, result_likelihood, team_2_stats['rating'], elo.K)\n",
    "            simulation_dicts[team_2]['rating'] = team_2_new\n",
    "            winner = team_2\n",
    "\n",
    "        # ['Tournament', 'Bracket', 'Slot', 'Team']\n",
    "        output_row = [os.environ[\"DATA_PREFIX\"], bracket_ix, slot, team_id_to_seed[winner]]\n",
    "\n",
    "        output_rows.append(output_row)\n",
    "    return output_rows"
   ]
  },
  {
   "cell_type": "code",
   "execution_count": 258,
   "metadata": {},
   "outputs": [],
   "source": [
    "def get_actual_bracket():\n",
    "    df_tourney_slots = pd.read_csv(f\"{DATA_PATH}NCAATourneySlots.csv\").query(\n",
    "    f\"Season == {SEASON}\").drop(columns=[\"Season\"]).reset_index(drop=True)\n",
    "    \n",
    "    output_rows = []\n",
    "    \n",
    "    df_tourney_slots['round'] = df_tourney_slots[\"Slot\"].apply(lambda x: int(x[1]) if x[0] == \"R\" else 0)\n",
    "\n",
    "    df_tourney_slots = df_tourney_slots.query(\"round > 0\")\n",
    "\n",
    "\n",
    "    for _, row in df_tourney_slots.iterrows():\n",
    "        slot = row['Slot']\n",
    "        rd = row['round']\n",
    "\n",
    "        team_1 = seed_to_team_id[row['StrongSeed']]\n",
    "        team_2 = seed_to_team_id[row['WeakSeed']]\n",
    "        \n",
    "        match = get_match(team_1, team_2)\n",
    "        match_winner = tourney_match_to_winner[match]\n",
    "\n",
    "        seed_to_team_id[slot] = match_winner\n",
    "\n",
    "        output_row = [os.environ[\"DATA_PREFIX\"], 1, slot, team_id_to_seed[match_winner]]\n",
    "\n",
    "        output_rows.append(output_row)\n",
    "    return output_rows"
   ]
  },
  {
   "cell_type": "code",
   "execution_count": 260,
   "metadata": {},
   "outputs": [],
   "source": [
    "df_actual = pd.DataFrame(get_actual_bracket(), columns=['Tournament', 'Bracket', 'Slot', 'Team'])"
   ]
  },
  {
   "cell_type": "code",
   "execution_count": 278,
   "metadata": {},
   "outputs": [],
   "source": [
    "full_sim = []\n",
    "for i in range(1, 20_000):\n",
    "    sim_rows = generate_bracket(i)\n",
    "    full_sim.extend(sim_rows)"
   ]
  },
  {
   "cell_type": "code",
   "execution_count": 279,
   "metadata": {},
   "outputs": [],
   "source": [
    "df_full_sim = pd.DataFrame(full_sim, columns=['Tournament', 'Bracket', 'Slot', 'Team'])"
   ]
  },
  {
   "cell_type": "code",
   "execution_count": 280,
   "metadata": {},
   "outputs": [],
   "source": [
    "def make_implied_probability_table(df_sub):\n",
    "    # pandas gibberish that gets you the proportion of times Team wins\n",
    "    # a particular slot in the tournament\n",
    "    tmp = df_sub[['Tournament','Slot','Team']]\\\n",
    "            .groupby(['Tournament','Slot'])\\\n",
    "            .agg('value_counts',normalize=True)\n",
    "    \n",
    "    # more pandas gibberish to get it in the format we want.\n",
    "    # eventually want the columns to be named after rounds and have\n",
    "    # rows correspond to tournament and team\n",
    "    tmp = tmp.to_frame()\n",
    "    tmp.reset_index(inplace=True)\n",
    "    tmp['Round'] = tmp['Slot'].str[0:2]\n",
    "    tmp.drop(columns='Slot', inplace=True)\n",
    "    tmp.set_index(['Tournament','Team','Round'], inplace=True)\n",
    "    tmp = tmp.stack().unstack(level=2).fillna(0.0)\n",
    "    tmp.reset_index(inplace=True)\n",
    "    \n",
    "    # cleanup\n",
    "    tmp.columns.name=None\n",
    "    tmp.drop(columns='level_2',inplace=True)\n",
    "    \n",
    "    # now need to add in missing teams, if any\n",
    "    # some teams may never appear in the bracket.  This means they\n",
    "    # should have implied probabilities of 0 for all rounds\n",
    "    df_missing = []\n",
    "    seeds = [f'{region}{num:02d}' for region in list('WXYZ') \\\n",
    "                 for num in range(1,17)]\n",
    "    for t, sdf in tmp.groupby('Tournament'):\n",
    "        missing_seeds = np.setdiff1d(seeds, sdf['Team'])\n",
    "        df_missing.append(pd.DataFrame({'Tournament':t, 'Team': missing_seeds}))\n",
    "    df_missing = pd.concat(df_missing)\n",
    "    \n",
    "    tmp = pd.concat([tmp,df_missing])\n",
    "    tmp.fillna(0.0,inplace=True)\n",
    "    tmp.sort_values(['Tournament','Team'],inplace=True)\n",
    "    tmp.reset_index(inplace=True, drop=True)\n",
    "    \n",
    "    return tmp"
   ]
  },
  {
   "cell_type": "code",
   "execution_count": 281,
   "metadata": {},
   "outputs": [],
   "source": [
    "def make_evaluation_df(df_sub, df_truth):\n",
    "    # makes a dataframe which will be used for computing the score\n",
    "    proc_sub = make_implied_probability_table(df_sub)\n",
    "    proc_truth = make_implied_probability_table(df_truth)\n",
    "    tmp = proc_sub.merge(proc_truth, on=['Tournament','Team'], how='inner',suffixes=('_sub','_truth'))\n",
    "    \n",
    "    for col in tmp.columns[tmp.columns.str.endswith('_truth')]:\n",
    "        r = col.split('_')[0]\n",
    "        tmp[r+'_brier'] = (tmp[r + '_sub'] - tmp[r + '_truth'])**2\n",
    "        \n",
    "    return tmp    \n",
    "\n",
    "def calc_evaluation_score(df_sub, df_truth):\n",
    "    evaluation = make_evaluation_df(df_sub,df_truth)\n",
    "    brier_cols = evaluation.columns[(evaluation.columns.str.endswith('_brier'))]\n",
    "    score = evaluation.groupby('Tournament')[brier_cols].mean().mean(axis=1).mean()\n",
    "    return score\n"
   ]
  },
  {
   "cell_type": "code",
   "execution_count": 282,
   "metadata": {},
   "outputs": [],
   "source": [
    "evaluation = make_evaluation_df(df_full_sim, df_actual)"
   ]
  },
  {
   "cell_type": "code",
   "execution_count": 276,
   "metadata": {},
   "outputs": [
    {
     "data": {
      "text/plain": [
       "0.07199218302044251"
      ]
     },
     "execution_count": 276,
     "metadata": {},
     "output_type": "execute_result"
    }
   ],
   "source": [
    "calc_evaluation_score(df_full_sim, df_actual)"
   ]
  },
  {
   "cell_type": "code",
   "execution_count": 283,
   "metadata": {},
   "outputs": [
    {
     "data": {
      "text/plain": [
       "0.07189266831887103"
      ]
     },
     "execution_count": 283,
     "metadata": {},
     "output_type": "execute_result"
    }
   ],
   "source": [
    "calc_evaluation_score(df_full_sim, df_actual)"
   ]
  },
  {
   "cell_type": "code",
   "execution_count": null,
   "metadata": {},
   "outputs": [],
   "source": []
  }
 ],
 "metadata": {
  "kernelspec": {
   "display_name": "Python 3 (ipykernel)",
   "language": "python",
   "name": "python3"
  },
  "language_info": {
   "codemirror_mode": {
    "name": "ipython",
    "version": 3
   },
   "file_extension": ".py",
   "mimetype": "text/x-python",
   "name": "python",
   "nbconvert_exporter": "python",
   "pygments_lexer": "ipython3",
   "version": "3.11.7"
  }
 },
 "nbformat": 4,
 "nbformat_minor": 4
}
