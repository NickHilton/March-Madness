{
 "cells": [
  {
   "cell_type": "code",
   "execution_count": null,
   "metadata": {},
   "outputs": [],
   "source": [
    "import sys\n",
    "sys.path.append('../')\n",
    "\n",
    "import pandas as pd\n",
    "import sqlite3\n",
    "from sqlalchemy import create_engine\n",
    "from sqlalchemy import *\n",
    "from sqlalchemy.orm import *\n",
    "from sqlalchemy.orm import sessionmaker\n",
    "from models import Match\n",
    "from models import Team\n",
    "from elo_run.MatchStack import MatchStack\n",
    "from elo_run.TeamMatchStack import TeamMatchStack\n",
    "from models import Base, Seed, MatchPredictions, engine\n",
    "import matplotlib.pyplot as plt"
   ]
  },
  {
   "cell_type": "code",
   "execution_count": null,
   "metadata": {},
   "outputs": [],
   "source": [
    "from elo_run.run_model import *"
   ]
  },
  {
   "cell_type": "code",
   "execution_count": null,
   "metadata": {},
   "outputs": [],
   "source": [
    "import numpy as np"
   ]
  },
  {
   "cell_type": "code",
   "execution_count": null,
   "metadata": {},
   "outputs": [],
   "source": [
    "df.head()"
   ]
  },
  {
   "cell_type": "code",
   "execution_count": null,
   "metadata": {},
   "outputs": [],
   "source": [
    "Session = sessionmaker(bind=engine)"
   ]
  },
  {
   "cell_type": "code",
   "execution_count": null,
   "metadata": {},
   "outputs": [],
   "source": [
    "session = Session()\n"
   ]
  },
  {
   "cell_type": "code",
   "execution_count": null,
   "metadata": {
    "scrolled": true
   },
   "outputs": [],
   "source": [
    "session.query(Team)"
   ]
  },
  {
   "cell_type": "code",
   "execution_count": null,
   "metadata": {},
   "outputs": [],
   "source": [
    "q = session.query(Team.TeamID, func.max(Match.mdid).label('mdid')).join(\n",
    "    Match.teams).filter(Match.Season == 2002).group_by(Team.TeamID).subquery()\n",
    "\n",
    "winners = session.query(Match.WTeamID, MatchPredictions.WTeamRatingAfter).join(\n",
    "    q, and_(Match.WTeamID==q.c.TeamID, Match.mdid == q.c.mdid)\n",
    "                                                                       ).join(MatchPredictions).all()\n",
    "\n",
    "losers = session.query(Match.LTeamID, MatchPredictions.LTeamRatingAfter).join(\n",
    "    q, and_(Match.LTeamID==q.c.TeamID, Match.mdid == q.c.mdid)\n",
    "                                                                       ).join(MatchPredictions).all()\n",
    "\n",
    "team_to_rating = dict(winners + losers)"
   ]
  },
  {
   "cell_type": "code",
   "execution_count": null,
   "metadata": {},
   "outputs": [],
   "source": [
    "team_to_rating"
   ]
  },
  {
   "cell_type": "code",
   "execution_count": null,
   "metadata": {},
   "outputs": [],
   "source": [
    "session.query(Team.TeamID).join(Match.teams).filter(Match.Season == 2004).group_by(Team.TeamID).all()"
   ]
  },
  {
   "cell_type": "code",
   "execution_count": null,
   "metadata": {},
   "outputs": [],
   "source": [
    "final_matches"
   ]
  },
  {
   "cell_type": "code",
   "execution_count": null,
   "metadata": {},
   "outputs": [],
   "source": []
  },
  {
   "cell_type": "code",
   "execution_count": null,
   "metadata": {},
   "outputs": [],
   "source": []
  },
  {
   "cell_type": "code",
   "execution_count": null,
   "metadata": {},
   "outputs": [],
   "source": [
    "for team in teams:\n",
    "    teams[team]['rating'] = 1500"
   ]
  },
  {
   "cell_type": "code",
   "execution_count": null,
   "metadata": {},
   "outputs": [],
   "source": [
    "results = []"
   ]
  },
  {
   "cell_type": "code",
   "execution_count": null,
   "metadata": {},
   "outputs": [],
   "source": [
    "for _, row in df.iterrows():\n",
    "    wteam = {}\n",
    "    lteam = {}\n",
    "    \n",
    "    if ~np.isnan(row.WSeed):\n",
    "        wteam['seed'] = row.WSeed\n",
    "    else:\n",
    "        wteam['seed'] = None\n",
    "    \n",
    "    if ~np.isnan(row.LSeed):\n",
    "        lteam['seed'] = row.LSeed\n",
    "    else:\n",
    "        lteam['seed'] = None\n",
    "\n",
    "    wteam['rating'] = teams[row.WTeamID]['rating']\n",
    "    lteam['rating'] = teams[row.LTeamID]['rating']\n",
    "    \n",
    "    wteam['FGP'] = row.WFGP_avg\n",
    "    wteam['R'] = row.WR_avg\n",
    "    wteam['FGP3'] = row.WFGP3_avg\n",
    "    lteam['FGP'] = row.LFGP_avg\n",
    "    lteam['R'] = row.LR_avg\n",
    "    lteam['FGP3'] = row.LFGP3_avg\n",
    "    \n",
    "    w_old = wteam['rating']\n",
    "    l_old = lteam['rating']\n",
    "    \n",
    "    pred_prob = elo.predict(wteam, lteam)\n",
    "    result_likelihood = elo.response(row.Delta, row.WLoc)\n",
    "    \n",
    "    w_new = elo.update(pred_prob, result_likelihood, w_old, elo.K) \n",
    "    teams[row.WTeamID]['rating'] = w_new\n",
    "    \n",
    "    l_new = elo.update(1-pred_prob, 1-result_likelihood, l_old, elo.K)\n",
    "    teams[row.LTeamID]['rating'] = l_new\n",
    "    \n",
    "    results.append((row.id, w_old, l_old, w_new, l_new, pred_prob, result_likelihood))"
   ]
  },
  {
   "cell_type": "code",
   "execution_count": null,
   "metadata": {},
   "outputs": [],
   "source": [
    "res_df = pd.DataFrame(results, columns = ['match_id',\n",
    "                                          'WTeamRatingBefore',\n",
    "                                          'LTeamRatingBefore',\n",
    "                                          'WTeamRatingAfter',\n",
    "                                          'LTeamRatingAfter',\n",
    "                                          'PredProbWTeam',\n",
    "                                          'ResultPValue'])"
   ]
  },
  {
   "cell_type": "code",
   "execution_count": null,
   "metadata": {},
   "outputs": [],
   "source": [
    "res_df.head()"
   ]
  },
  {
   "cell_type": "code",
   "execution_count": null,
   "metadata": {},
   "outputs": [],
   "source": []
  }
 ],
 "metadata": {
  "kernelspec": {
   "display_name": "Python 3",
   "language": "python",
   "name": "python3"
  },
  "language_info": {
   "codemirror_mode": {
    "name": "ipython",
    "version": 3
   },
   "file_extension": ".py",
   "mimetype": "text/x-python",
   "name": "python",
   "nbconvert_exporter": "python",
   "pygments_lexer": "ipython3",
   "version": "3.6.4"
  }
 },
 "nbformat": 4,
 "nbformat_minor": 2
}
