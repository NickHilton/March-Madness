{
 "cells": [
  {
   "cell_type": "code",
   "execution_count": 1,
   "metadata": {},
   "outputs": [],
   "source": [
    "import sys\n",
    "sys.path.append('../')"
   ]
  },
  {
   "cell_type": "code",
   "execution_count": 2,
   "metadata": {},
   "outputs": [],
   "source": [
    "from models import Seed, engine, Base, Team, Match, MatchPredictions"
   ]
  },
  {
   "cell_type": "code",
   "execution_count": 3,
   "metadata": {},
   "outputs": [],
   "source": [
    "from sqlalchemy.orm import sessionmaker\n",
    "from sqlalchemy import *"
   ]
  },
  {
   "cell_type": "code",
   "execution_count": 4,
   "metadata": {},
   "outputs": [],
   "source": [
    "Session = sessionmaker(bind=engine)"
   ]
  },
  {
   "cell_type": "code",
   "execution_count": 5,
   "metadata": {},
   "outputs": [],
   "source": [
    "session = Session()"
   ]
  },
  {
   "cell_type": "code",
   "execution_count": 20,
   "metadata": {},
   "outputs": [
    {
     "data": {
      "text/plain": [
       "[(7)]"
      ]
     },
     "execution_count": 20,
     "metadata": {},
     "output_type": "execute_result"
    }
   ],
   "source": [
    "session.query(Seed.Seed).filter(Seed.Season == 2003).filter(Seed.TeamID==1272).all()"
   ]
  },
  {
   "cell_type": "code",
   "execution_count": 7,
   "metadata": {},
   "outputs": [],
   "source": [
    "import pandas as pd"
   ]
  },
  {
   "cell_type": "code",
   "execution_count": 8,
   "metadata": {},
   "outputs": [],
   "source": [
    "dancers = pd.DataFrame(session.query(Seed.TeamID, Seed.Seed.label('seed')).filter(Seed.Season==2018).all())"
   ]
  },
  {
   "cell_type": "code",
   "execution_count": 9,
   "metadata": {},
   "outputs": [],
   "source": [
    "dancers_df = dancers.sort_values(by='TeamID').set_index('TeamID', drop = True)"
   ]
  },
  {
   "cell_type": "code",
   "execution_count": 11,
   "metadata": {},
   "outputs": [],
   "source": [
    "dancer_to_stats = get_most_recent_stats(2005)"
   ]
  },
  {
   "cell_type": "code",
   "execution_count": 10,
   "metadata": {},
   "outputs": [],
   "source": [
    "def get_most_recent_stats(Season):\n",
    "    Session = sessionmaker(bind=engine)\n",
    "    session = Session()\n",
    "\n",
    "    q = session.query(Team.TeamID, func.max(Match.mdid).label('mdid')).join(\n",
    "    Match.teams).filter(Match.Season == Season-1).group_by(Team.TeamID).subquery()\n",
    "\n",
    "    winners = list(session.query(Match.WTeamID, Match.WFGP3_avg, Match.WFGP_avg, Match.WR_avg, MatchPredictions.WTeamRatingAfter).join(\n",
    "    q, and_(Match.WTeamID==q.c.TeamID, Match.mdid == q.c.mdid)\n",
    "                                                                       ).join(MatchPredictions).all())\n",
    "\n",
    "    losers = list(session.query(Match.LTeamID, Match.LFGP3_avg, Match.LFGP_avg, Match.LR_avg, MatchPredictions.LTeamRatingAfter).join(\n",
    "    q, and_(Match.LTeamID==q.c.TeamID, Match.mdid == q.c.mdid)\n",
    "                                                                       ).join(MatchPredictions).all())\n",
    "\n",
    "    all_stats = winners + losers\n",
    "    \n",
    "    df = pd.DataFrame(all_stats, columns = ['TeamID', 'FGP3', 'FGP', 'R','rating'])\n",
    "    df.set_index('TeamID', inplace = True, drop = True)\n",
    "\n",
    "    return df"
   ]
  },
  {
   "cell_type": "code",
   "execution_count": 12,
   "metadata": {},
   "outputs": [],
   "source": [
    "full_df = dancers_df.merge(dancer_to_stats, left_index = True, right_index = True)"
   ]
  },
  {
   "cell_type": "code",
   "execution_count": 23,
   "metadata": {},
   "outputs": [],
   "source": [
    "dancers_dicts = full_df.to_dict(orient='index')"
   ]
  },
  {
   "cell_type": "code",
   "execution_count": 25,
   "metadata": {},
   "outputs": [],
   "source": [
    "x = list(dancers.TeamID)"
   ]
  },
  {
   "cell_type": "code",
   "execution_count": 26,
   "metadata": {},
   "outputs": [],
   "source": [
    "x.sort()"
   ]
  },
  {
   "cell_type": "code",
   "execution_count": 27,
   "metadata": {},
   "outputs": [],
   "source": [
    "matchups = []\n",
    "for z in x:\n",
    "    for y in x:\n",
    "        if y < z:\n",
    "            matchups.append((y,z))"
   ]
  },
  {
   "cell_type": "code",
   "execution_count": 31,
   "metadata": {},
   "outputs": [],
   "source": [
    "from elo_run.link import predict\n",
    "from elo_run.link_functions import *\n",
    "from elo_run.response_function import home_response, away_response, neutral_response\n",
    "from elo_run.run_model import run_model_one_season\n",
    "from elo_run.set_up_elo import ELO\n",
    "from elo_run.update_rating import update_function\n",
    "\n",
    "response_fns = {\n",
    "    'H': home_response,\n",
    "    'A': away_response,\n",
    "    'N': neutral_response\n",
    "}"
   ]
  },
  {
   "cell_type": "code",
   "execution_count": 28,
   "metadata": {},
   "outputs": [
    {
     "ename": "KeyError",
     "evalue": "1166",
     "output_type": "error",
     "traceback": [
      "\u001b[0;31m---------------------------------------------------------------------------\u001b[0m",
      "\u001b[0;31mKeyError\u001b[0m                                  Traceback (most recent call last)",
      "\u001b[0;32m<ipython-input-28-45c74e8e72de>\u001b[0m in \u001b[0;36m<module>\u001b[0;34m()\u001b[0m\n\u001b[1;32m      1\u001b[0m \u001b[0;32mfor\u001b[0m \u001b[0mteam_1\u001b[0m\u001b[0;34m,\u001b[0m \u001b[0mteam_2\u001b[0m \u001b[0;32min\u001b[0m \u001b[0mmatchups\u001b[0m\u001b[0;34m:\u001b[0m\u001b[0;34m\u001b[0m\u001b[0m\n\u001b[1;32m      2\u001b[0m     \u001b[0mteam_1_stats\u001b[0m \u001b[0;34m=\u001b[0m \u001b[0mdancers_dicts\u001b[0m\u001b[0;34m[\u001b[0m\u001b[0mteam_1\u001b[0m\u001b[0;34m]\u001b[0m\u001b[0;34m\u001b[0m\u001b[0m\n\u001b[0;32m----> 3\u001b[0;31m     \u001b[0mteam_2_stats\u001b[0m \u001b[0;34m=\u001b[0m \u001b[0mdancers_dicts\u001b[0m\u001b[0;34m[\u001b[0m\u001b[0mteam_2\u001b[0m\u001b[0;34m]\u001b[0m\u001b[0;34m\u001b[0m\u001b[0m\n\u001b[0m",
      "\u001b[0;31mKeyError\u001b[0m: 1166"
     ]
    }
   ],
   "source": [
    "predictions = []\n",
    "model_params = {\n",
    "    'rating': 1,\n",
    "    'seed': 1,\n",
    "    'FGP': 1,\n",
    "    'R': 1,\n",
    "    'FGP3': 1,\n",
    "    'standard_devation': 600,\n",
    "    'link': normal_link\n",
    "}\n",
    "\n",
    "elo = ELO(link_function=predict,\n",
    "         response_functinos = response_fns,\n",
    "         update_function = update_function,\n",
    "         model_params=model_params,\n",
    "         k=50)\n",
    "\n",
    "for team_1, team_2 in matchups:\n",
    "    team_1_stats = dancers_dicts[team_1]\n",
    "    team_2_stats = dancers_dicts[team_2]\n",
    "    prediction = elo.predict(team_1_stats, team_2_stats)\n",
    "    \n",
    "    predictions.append(f\"2018_{team_1}_{team_2}\", prediction)\n",
    "    \n",
    "prediction_df = pd.DataFrame(predictions, columns = ['ID', 'Pred'])\n",
    "prediction_df.set_index('ID', inplace = True, drop = True)\n",
    "    "
   ]
  },
  {
   "cell_type": "code",
   "execution_count": 29,
   "metadata": {},
   "outputs": [
    {
     "data": {
      "text/plain": [
       "{1104: {'FGP': 0.4511029014082191,\n",
       "  'FGP3': 0.38176039332822076,\n",
       "  'R': 34.84375,\n",
       "  'rating': 1656.8017513100751,\n",
       "  'seed': 9.0},\n",
       " 1112: {'FGP': 0.48509216981604064,\n",
       "  'FGP3': 0.38128192781024167,\n",
       "  'R': 39.58620689655172,\n",
       "  'rating': 1710.782073209848,\n",
       "  'seed': 4.0},\n",
       " 1113: {'FGP': 0.4336050461514118,\n",
       "  'FGP3': 0.33373227392904703,\n",
       "  'R': 35.38461538461539,\n",
       "  'rating': 1474.4520807877682,\n",
       "  'seed': 11.0},\n",
       " 1116: {'FGP': 0.4169123954502965,\n",
       "  'FGP3': 0.3127985306212898,\n",
       "  'R': 34.55555555555556,\n",
       "  'rating': 1443.9784752130383,\n",
       "  'seed': 7.0},\n",
       " 1120: {'FGP': 0.4436277020153743,\n",
       "  'FGP3': 0.35020861826082156,\n",
       "  'R': 37.407407407407405,\n",
       "  'rating': 1557.696728273074,\n",
       "  'seed': 4.0},\n",
       " 1137: {'FGP': 0.472106841992019,\n",
       "  'FGP3': 0.30185251869594415,\n",
       "  'R': 33.46153846153846,\n",
       "  'rating': 1511.9926192539162,\n",
       "  'seed': 14.0},\n",
       " 1138: {'FGP': 0.46409240958857856,\n",
       "  'FGP3': 0.3680397494232634,\n",
       "  'R': 35.85714285714286,\n",
       "  'rating': 1498.108954684022,\n",
       "  'seed': 13.0},\n",
       " 1139: {'FGP': 0.4149076669780426,\n",
       "  'FGP3': 0.34116999713347024,\n",
       "  'R': 29.892857142857142,\n",
       "  'rating': 1631.3613454453791,\n",
       "  'seed': 10.0},\n",
       " 1153: {'FGP': 0.4574550207829854,\n",
       "  'FGP3': 0.3892268781790068,\n",
       "  'R': 37.516129032258064,\n",
       "  'rating': 1742.2025280569546,\n",
       "  'seed': 2.0},\n",
       " 1155: {'FGP': 0.4328459169853784,\n",
       "  'FGP3': 0.3210496631119266,\n",
       "  'R': 37.333333333333336,\n",
       "  'rating': 1388.2590048233978,\n",
       "  'seed': 5.0},\n",
       " 1158: {'FGP': 0.4465266206869305,\n",
       "  'FGP3': 0.37666780605864425,\n",
       "  'R': 35.48148148148148,\n",
       "  'rating': 1582.5042484684757,\n",
       "  'seed': 13.0},\n",
       " 1168: {'FGP': 0.4217597608869619,\n",
       "  'FGP3': 0.3633846598337368,\n",
       "  'R': 38.50000000000001,\n",
       "  'rating': 1366.335969623519,\n",
       "  'seed': 15.0},\n",
       " 1172: {'FGP': 0.4340756399517789,\n",
       "  'FGP3': 0.359957635070383,\n",
       "  'R': 37.84,\n",
       "  'rating': 1543.0074605123002,\n",
       "  'seed': 12.0},\n",
       " 1181: {'FGP': 0.475144067275183,\n",
       "  'FGP3': 0.3705991703495127,\n",
       "  'R': 36.5,\n",
       "  'rating': 1915.485808632171,\n",
       "  'seed': 2.0},\n",
       " 1196: {'FGP': 0.4822864103206786,\n",
       "  'FGP3': 0.3863284634074557,\n",
       "  'R': 35.16666666666667,\n",
       "  'rating': 1704.2842300019654,\n",
       "  'seed': 6.0},\n",
       " 1209: {'FGP': 0.46410955099672324,\n",
       "  'FGP3': 0.33844560584092265,\n",
       "  'R': 35.88461538461539,\n",
       "  'rating': 1575.7827772459432,\n",
       "  'seed': 15.0},\n",
       " 1211: {'FGP': 0.5207767570805022,\n",
       "  'FGP3': 0.41234897433696055,\n",
       "  'R': 39.7,\n",
       "  'rating': 1797.637613516181,\n",
       "  'seed': 4.0},\n",
       " 1222: {'FGP': 0.3944243774862631,\n",
       "  'FGP3': 0.29355160198700525,\n",
       "  'R': 34.65384615384614,\n",
       "  'rating': 1312.6904338442196,\n",
       "  'seed': 6.0},\n",
       " 1233: {'FGP': 0.44683401743890144,\n",
       "  'FGP3': 0.35444574200090706,\n",
       "  'R': 37.92857142857143,\n",
       "  'rating': 1472.1462249117824,\n",
       "  'seed': 15.0},\n",
       " 1242: {'FGP': 0.472340154185603,\n",
       "  'FGP3': 0.3451167252413132,\n",
       "  'R': 38.903225806451616,\n",
       "  'rating': 1797.9891604581494,\n",
       "  'seed': 1.0},\n",
       " 1243: {'FGP': 0.4485753096585206,\n",
       "  'FGP3': 0.3634238189793746,\n",
       "  'R': 38.18518518518518,\n",
       "  'rating': 1544.363323777686,\n",
       "  'seed': 9.0},\n",
       " 1246: {'FGP': 0.4739575499298513,\n",
       "  'FGP3': 0.3571143657403151,\n",
       "  'R': 36.03225806451613,\n",
       "  'rating': 1884.5304493299368,\n",
       "  'seed': 5.0},\n",
       " 1252: {'FGP': 0.4408209902840977,\n",
       "  'FGP3': 0.3284667238684,\n",
       "  'R': 32.8,\n",
       "  'rating': 1291.4322226366137,\n",
       "  'seed': 15.0},\n",
       " 1254: {'FGP': 0.4257395542243504,\n",
       "  'FGP3': 0.32620280642110383,\n",
       "  'R': 37.88461538461539,\n",
       "  'rating': 1294.3190309494819,\n",
       "  'seed': 16.0},\n",
       " 1260: {'FGP': 0.4386086498551024,\n",
       "  'FGP3': 0.30056570806593647,\n",
       "  'R': 36.5,\n",
       "  'rating': 1409.3044350460316,\n",
       "  'seed': 11.0},\n",
       " 1267: {'FGP': 0.42790777241437894,\n",
       "  'FGP3': 0.34874414988320684,\n",
       "  'R': 37.035714285714285,\n",
       "  'rating': 1421.79648521123,\n",
       "  'seed': 13.0},\n",
       " 1274: {'FGP': 0.450985691236169,\n",
       "  'FGP3': 0.3362390852955812,\n",
       "  'R': 35.07142857142857,\n",
       "  'rating': 1483.4082316745528,\n",
       "  'seed': 6.0},\n",
       " 1277: {'FGP': 0.5003508472749638,\n",
       "  'FGP3': 0.4073249300316688,\n",
       "  'R': 30.48275862068966,\n",
       "  'rating': 1705.878049831952,\n",
       "  'seed': 3.0},\n",
       " 1285: {'FGP': 0.43998781238766865,\n",
       "  'FGP3': 0.33170656878914584,\n",
       "  'R': 33.72,\n",
       "  'rating': 1393.5374681057363,\n",
       "  'seed': 14.0},\n",
       " 1293: {'FGP': 0.49647573828125274,\n",
       "  'FGP3': 0.33763895569412744,\n",
       "  'R': 37.53333333333333,\n",
       "  'rating': 1698.691438941322,\n",
       "  'seed': 12.0},\n",
       " 1301: {'FGP': 0.45213041547707583,\n",
       "  'FGP3': 0.3519069886948971,\n",
       "  'R': 33.833333333333336,\n",
       "  'rating': 1744.8163523258297,\n",
       "  'seed': 9.0},\n",
       " 1305: {'FGP': 0.4566357403513785,\n",
       "  'FGP3': 0.3373946102440432,\n",
       "  'R': 38.65625,\n",
       "  'rating': 1696.2394916944477,\n",
       "  'seed': 7.0},\n",
       " 1308: {'FGP': 0.42078717025350487,\n",
       "  'FGP3': 0.33906305062135816,\n",
       "  'R': 34.083333333333336,\n",
       "  'rating': 1493.9427329181278,\n",
       "  'seed': 12.0},\n",
       " 1314: {'FGP': 0.46269216907948896,\n",
       "  'FGP3': 0.3475575777237405,\n",
       "  'R': 39.827586206896555,\n",
       "  'rating': 1679.5626700810835,\n",
       "  'seed': 2.0},\n",
       " 1326: {'FGP': 0.4461055938736101,\n",
       "  'FGP3': 0.33918015356193315,\n",
       "  'R': 33.93103448275862,\n",
       "  'rating': 1438.9479229685287,\n",
       "  'seed': 5.0},\n",
       " 1335: {'FGP': 0.4526058582617563,\n",
       "  'FGP3': 0.4046095197641954,\n",
       "  'R': 35.03846153846154,\n",
       "  'rating': 1688.4363171543487,\n",
       "  'seed': 16.0},\n",
       " 1344: {'FGP': 0.4562730043838961,\n",
       "  'FGP3': 0.3697622952603134,\n",
       "  'R': 33.57142857142857,\n",
       "  'rating': 1651.343176763422,\n",
       "  'seed': 10.0},\n",
       " 1347: {'FGP': 0.4101918592698774,\n",
       "  'FGP3': 0.3529827605651404,\n",
       "  'R': 33.68,\n",
       "  'rating': 1346.831798469103,\n",
       "  'seed': 16.0},\n",
       " 1361: {'FGP': 0.42599025873147056,\n",
       "  'FGP3': 0.31128035566422657,\n",
       "  'R': 35.59259259259259,\n",
       "  'rating': 1491.9923747967657,\n",
       "  'seed': 11.0},\n",
       " 1371: {'FGP': 0.462865685573308,\n",
       "  'FGP3': 0.3514331999092328,\n",
       "  'R': 36.96551724137931,\n",
       "  'rating': 1619.7204095320053,\n",
       "  'seed': 8.0},\n",
       " 1372: {'FGP': 0.45047330677524644,\n",
       "  'FGP3': 0.37381013226315424,\n",
       "  'R': 32.12,\n",
       "  'rating': 1684.1629930815113,\n",
       "  'seed': 14.0},\n",
       " 1382: {'FGP': 0.39389922672914407,\n",
       "  'FGP3': 0.31565721053347784,\n",
       "  'R': 32.96296296296296,\n",
       "  'rating': 1370.5257078156278,\n",
       "  'seed': 11.0},\n",
       " 1393: {'FGP': 0.46111604218794644,\n",
       "  'FGP3': 0.3266592811213555,\n",
       "  'R': 38.1,\n",
       "  'rating': 1693.7566636514184,\n",
       "  'seed': 11.0},\n",
       " 1395: {'FGP': 0.4149863888178157,\n",
       "  'FGP3': 0.34673639564187936,\n",
       "  'R': 35.32142857142858,\n",
       "  'rating': 1417.5800771191127,\n",
       "  'seed': 6.0},\n",
       " 1400: {'FGP': 0.4433644952157732,\n",
       "  'FGP3': 0.3697628768725533,\n",
       "  'R': 41.24999999999999,\n",
       "  'rating': 1724.2527532460654,\n",
       "  'seed': 10.0},\n",
       " 1401: {'FGP': 0.41546854866126715,\n",
       "  'FGP3': 0.3247729167046232,\n",
       "  'R': 37.96296296296296,\n",
       "  'rating': 1376.6076986009346,\n",
       "  'seed': 7.0},\n",
       " 1403: {'FGP': 0.4663927410271819,\n",
       "  'FGP3': 0.33438388903629546,\n",
       "  'R': 34.06060606060606,\n",
       "  'rating': 1661.816687972417,\n",
       "  'seed': 3.0},\n",
       " 1411: {'FGP': 0.413044113289975,\n",
       "  'FGP3': 0.27436837535306746,\n",
       "  'R': 36.629629629629626,\n",
       "  'rating': 1412.8502765005976,\n",
       "  'seed': 16.0},\n",
       " 1417: {'FGP': 0.45996417852474003,\n",
       "  'FGP3': 0.327652907744067,\n",
       "  'R': 34.51851851851851,\n",
       "  'rating': 1422.4958345558432,\n",
       "  'seed': 11.0},\n",
       " 1420: {'FGP': 0.4132950429839384,\n",
       "  'FGP3': 0.3228969270222766,\n",
       "  'R': 34.55555555555555,\n",
       "  'rating': 1342.7877418686103,\n",
       "  'seed': 16.0},\n",
       " 1422: {'FGP': 0.4643974930540916,\n",
       "  'FGP3': 0.3280301631891001,\n",
       "  'R': 34.19230769230769,\n",
       "  'rating': 1403.5796087366325,\n",
       "  'seed': 13.0},\n",
       " 1439: {'FGP': 0.4121814841415768,\n",
       "  'FGP3': 0.309315967949965,\n",
       "  'R': 34.75000000000001,\n",
       "  'rating': 1452.6014279647256,\n",
       "  'seed': 8.0},\n",
       " 1460: {'FGP': 0.4552311439695878,\n",
       "  'FGP3': 0.33966982747347113,\n",
       "  'R': 33.50000000000001,\n",
       "  'rating': 1455.4259867755518,\n",
       "  'seed': 14.0},\n",
       " 1462: {'FGP': 0.44648045705699246,\n",
       "  'FGP3': 0.38908818055831235,\n",
       "  'R': 35.75,\n",
       "  'rating': 1799.1340283092109,\n",
       "  'seed': 1.0}}"
      ]
     },
     "execution_count": 29,
     "metadata": {},
     "output_type": "execute_result"
    }
   ],
   "source": [
    "dancers_dicts"
   ]
  },
  {
   "cell_type": "code",
   "execution_count": null,
   "metadata": {},
   "outputs": [],
   "source": []
  },
  {
   "cell_type": "code",
   "execution_count": null,
   "metadata": {},
   "outputs": [],
   "source": []
  },
  {
   "cell_type": "code",
   "execution_count": null,
   "metadata": {},
   "outputs": [],
   "source": []
  },
  {
   "cell_type": "code",
   "execution_count": null,
   "metadata": {},
   "outputs": [],
   "source": []
  }
 ],
 "metadata": {
  "kernelspec": {
   "display_name": "Python 3",
   "language": "python",
   "name": "python3"
  },
  "language_info": {
   "codemirror_mode": {
    "name": "ipython",
    "version": 3
   },
   "file_extension": ".py",
   "mimetype": "text/x-python",
   "name": "python",
   "nbconvert_exporter": "python",
   "pygments_lexer": "ipython3",
   "version": "3.6.4"
  }
 },
 "nbformat": 4,
 "nbformat_minor": 2
}
