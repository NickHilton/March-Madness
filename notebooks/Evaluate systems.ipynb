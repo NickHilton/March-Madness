{
 "cells": [
  {
   "cell_type": "code",
   "execution_count": null,
   "id": "8200641f",
   "metadata": {
    "pycharm": {
     "name": "#%%\n"
    }
   },
   "outputs": [],
   "source": [
    "import sys\n",
    "sys.path.append('../')\n",
    "import os\n",
    "DATABASE = os.environ['DATABASE_URL'].split('sqlite:///')[1]\n",
    "\n",
    "import pandas as pd\n",
    "from helpers import sqlite_to_df\n",
    "from matplotlib import pyplot as plt"
   ]
  },
  {
   "cell_type": "code",
   "execution_count": null,
   "id": "bcf0fd07",
   "metadata": {
    "pycharm": {
     "name": "#%%\n"
    }
   },
   "outputs": [],
   "source": [
    "# Regular Imports\n",
    "from datetime import datetime\n",
    "import pandas as pd\n",
    "import numpy as np\n",
    "import warnings\n",
    "\n",
    "# Matplotlib imports \n",
    "from matplotlib import pyplot as plt\n",
    "import matplotlib.gridspec as gridspec\n",
    "from IPython.display import set_matplotlib_formats\n",
    "import matplotlib\n",
    "\n",
    "# Formatters for matplotlib\n",
    "from matplotlib.ticker import StrMethodFormatter\n",
    "\n",
    "\n",
    "\n",
    "# Options\n",
    "pd.set_option('display.max_rows',200)\n",
    "warnings.simplefilter(action='ignore', category=FutureWarning)\n",
    "pd.set_option('display.notebook_repr_html', True)\n",
    "\n",
    "\n",
    "%matplotlib inline\n",
    "plt.rcParams['figure.dpi'] = 100\n",
    "set_matplotlib_formats('pdf', 'png')\n",
    "matplotlib.rcParams['figure.figsize'] = (4.5,2.7)\n",
    "matplotlib.rcParams[\"legend.fontsize\"] = 7\n",
    "matplotlib.rcParams['font.size'] = 7"
   ]
  },
  {
   "cell_type": "code",
   "execution_count": null,
   "id": "360b8062",
   "metadata": {
    "pycharm": {
     "name": "#%%\n"
    }
   },
   "outputs": [],
   "source": [
    "# Formatters and Display Functions\n",
    "IT_FORMATTER = StrMethodFormatter('{x:,.0f}')\n",
    "\n",
    "def get_float_formatter(n=1):\n",
    "    return StrMethodFormatter(f'{{x:.{n}f}}')\n",
    "FLOAT_FORMATTER = get_float_formatter()\n",
    "\n",
    "INT_FORMATTER = StrMethodFormatter(\"{x:,g}\")\n",
    "INT_FORMAT_STRING = '{:,g}'\n",
    "\n",
    "PERCENT_FORMATTER = StrMethodFormatter(\"{x:,.0%}\")\n",
    "PERCENT_FORMAT_STRING = '{:,.1%}'"
   ]
  },
  {
   "cell_type": "code",
   "execution_count": null,
   "id": "6590928d",
   "metadata": {
    "pycharm": {
     "name": "#%%\n"
    }
   },
   "outputs": [],
   "source": [
    "# Get evaluations into a df for analysis\n",
    "\n",
    "df = sqlite_to_df('SELECT * from evaluations').dropna()"
   ]
  },
  {
   "cell_type": "code",
   "execution_count": null,
   "id": "c713195f",
   "metadata": {
    "pycharm": {
     "name": "#%%\n"
    }
   },
   "outputs": [],
   "source": [
    "df.head()"
   ]
  },
  {
   "cell_type": "code",
   "execution_count": null,
   "id": "39e8b88a",
   "metadata": {
    "pycharm": {
     "name": "#%%\n"
    }
   },
   "outputs": [],
   "source": [
    "df.columns"
   ]
  },
  {
   "cell_type": "code",
   "execution_count": null,
   "id": "bbce76d1",
   "metadata": {
    "pycharm": {
     "name": "#%%\n"
    }
   },
   "outputs": [],
   "source": [
    "# Subplots\n",
    "fig, axes = plt.subplots(2,2)\n",
    "axes = axes.flatten()\n",
    "\n",
    "# Resize to accomodate more figures\n",
    "matplotlib.rcParams['figure.figsize'] = (19,15.4)\n",
    "\n",
    "stats = ['mean', 'median', 'max', 'min']\n",
    "params = ['k', 'seed', 'link', 'FGP', 'R', 'FGP3']\n",
    "\n",
    "for ix, stat in enumerate(stats):\n",
    "    ax = axes[ix]\n",
    "    \n",
    "    for col in params:\n",
    "        stats_df = df.groupby(by=[col]).tournament_loss.agg(stats)\n",
    "        ax.plot(stats_df[stat].sort_index().reset_index(drop=True), label=col)\n",
    "        \n",
    "    plt.draw()\n",
    "\n",
    "    ax.set_title(stat)\n",
    "\n",
    "    ax.set_xlabel(\"Metric Stat (Ordinal)\")\n",
    "    ax.set_ylabel(\"Loss\")\n",
    "    \n",
    "    ax.xaxis.set_major_formatter(INT_FORMATTER)\n",
    "    ax.yaxis.set_major_formatter(INT_FORMATTER)\n",
    "\n",
    "#     # Only show some tick labels\n",
    "#     xticks = list(ax.get_xticks())\n",
    "#     xlabels = list(ax.get_xticklabels())\n",
    "#     n = 5\n",
    "#     ax.set_xticks(xticks[::n])\n",
    "#     ax.set_xticklabels(xlabels[::n])\n",
    "#     ax2.set_xticks(xticks[::n])\n",
    "#     ax2.set_xticklabels(xlabels[::n])\n",
    "    \n",
    "#     ax.tick_params(axis='x', rotation=45)\n",
    "    \n",
    "#     # Now plot on secondary axis\n",
    "#     ax2.plot(df[\"death_rate\"], alpha=0.4, c='g', linestyle='dashed', label='death_rate')\n",
    "#     ax2.plot(df[\"recovered_rate\"], alpha=0.4, c='r', linestyle='dashed', label='recovered_rate')\n",
    "\n",
    "    # Show grid on major axis\n",
    "    ax.grid()\n",
    "    \n",
    "#     # Show secondary legend\n",
    "#     if ix == 1:\n",
    "#         ax2.legend(loc=0)\n",
    "    if ix == 0:\n",
    "        ax.legend(loc=0)\n",
    "    \n",
    "    # Get rid of x labels if chart in upper area\n",
    "    if ix < 2:\n",
    "        ax.set_xticklabels([])\n",
    "#         ax2.set_xticklabels([])\n",
    "        ax.set_xlabel(\"\")\n",
    "        \n",
    "#     # Show horizontal line\n",
    "#     ax2.axhline(y=0.01, c='black', alpha = 0.9)\n",
    "    \n",
    "#     # Set axes limits\n",
    "#     ax2.set_ylim(0,0.05)\n",
    "    \n",
    "    # Add spacing between subplots to show axes more clearly\n",
    "    plt.tight_layout()\n"
   ]
  },
  {
   "cell_type": "code",
   "execution_count": null,
   "id": "f7b4417e",
   "metadata": {
    "pycharm": {
     "name": "#%%\n"
    }
   },
   "outputs": [],
   "source": [
    "# Subplots\n",
    "fig, ax = plt.subplots(1,1)\n",
    "axes = axes.flatten()\n",
    "\n",
    "# Resize to accomodate more figures\n",
    "matplotlib.rcParams['figure.figsize'] = (19,15.4)\n",
    "\n",
    "stats = ['mean', 'median', 'max', 'min']\n",
    "years = list(range(2003,2023))\n",
    "\n",
    "stats_df = df.groupby(by=\"season\").tournament_loss.agg(stats)\n",
    "\n",
    "for ix, stat in enumerate(stats):\n",
    "    \n",
    "    ax.plot(stats_df[stat].sort_index(), label=stat)\n",
    "        \n",
    "#     plt.draw()\n",
    "\n",
    "ax.set_title(\"By Season\")\n",
    "\n",
    "ax.set_xlabel(\"Season\")\n",
    "ax.set_ylabel(\"Loss\")\n",
    "\n",
    "#     ax.xaxis.set_major_formatter(INT_FORMATTER)\n",
    "ax.yaxis.set_major_formatter(INT_FORMATTER)\n",
    "\n",
    "#     # Only show some tick labels\n",
    "# xticks = list(ax.get_xticks())\n",
    "# xlabels = list(ax.get_xticklabels())\n",
    "# n = 2\n",
    "# ax.set_xticks(xticks[::n])\n",
    "# ax.set_xticklabels(xlabels[::n])\n",
    "#     ax2.set_xticks(xticks[::n])\n",
    "#     ax2.set_xticklabels(xlabels[::n])\n",
    "\n",
    "#     ax.tick_params(axis='x', rotation=45)\n",
    "\n",
    "#     # Now plot on secondary axis\n",
    "#     ax2.plot(df[\"death_rate\"], alpha=0.4, c='g', linestyle='dashed', label='death_rate')\n",
    "#     ax2.plot(df[\"recovered_rate\"], alpha=0.4, c='r', linestyle='dashed', label='recovered_rate')\n",
    "\n",
    "# Show grid on major axis\n",
    "ax.grid()\n",
    "\n",
    "#     # Show secondary legend\n",
    "#     if ix == 1:\n",
    "#         ax2.legend(loc=0)\n",
    "\n",
    "ax.legend(loc=0)\n",
    "\n",
    "# # Get rid of x labels if chart in upper area\n",
    "# if ix < 2:\n",
    "#     ax.set_xticklabels([])\n",
    "# #         ax2.set_xticklabels([])\n",
    "#     ax.set_xlabel(\"\")\n",
    "\n",
    "#     # Show horizontal line\n",
    "#     ax2.axhline(y=0.01, c='black', alpha = 0.9)\n",
    "\n",
    "#     # Set axes limits\n",
    "#     ax2.set_ylim(0,0.05)\n",
    "\n",
    "# Add spacing between subplots to show axes more clearly\n",
    "plt.tight_layout()\n",
    "\n"
   ]
  },
  {
   "cell_type": "code",
   "execution_count": null,
   "id": "532cf7ec",
   "metadata": {
    "pycharm": {
     "name": "#%%\n"
    }
   },
   "outputs": [],
   "source": []
  },
  {
   "cell_type": "code",
   "execution_count": null,
   "id": "1dd82816",
   "metadata": {
    "pycharm": {
     "name": "#%%\n"
    }
   },
   "outputs": [],
   "source": []
  },
  {
   "cell_type": "code",
   "execution_count": null,
   "id": "c397100c",
   "metadata": {
    "pycharm": {
     "name": "#%%\n"
    }
   },
   "outputs": [],
   "source": []
  },
  {
   "cell_type": "code",
   "execution_count": null,
   "id": "1d8194d4",
   "metadata": {
    "pycharm": {
     "name": "#%%\n"
    }
   },
   "outputs": [],
   "source": []
  },
  {
   "cell_type": "code",
   "execution_count": null,
   "id": "fbdac50a",
   "metadata": {
    "pycharm": {
     "name": "#%%\n"
    },
    "scrolled": true
   },
   "outputs": [],
   "source": [
    "# Get evaluations into a df for analysis\n",
    "\n",
    "df = sqlite_to_df('SELECT * from evaluations').dropna()"
   ]
  },
  {
   "cell_type": "code",
   "execution_count": null,
   "id": "cec6dfd6",
   "metadata": {
    "pycharm": {
     "name": "#%%\n"
    }
   },
   "outputs": [],
   "source": [
    "average_season_loss = df.groupby(by=\"season\")['tournament_loss'].mean().to_dict()"
   ]
  },
  {
   "cell_type": "code",
   "execution_count": null,
   "id": "f94dc784",
   "metadata": {},
   "outputs": [],
   "source": [
    "df['average_season_loss'] = df['season'].map(average_season_loss)"
   ]
  },
  {
   "cell_type": "code",
   "execution_count": null,
   "id": "324f002f",
   "metadata": {},
   "outputs": [],
   "source": [
    "df['performance'] = df['tournament_loss'] - df['average_season_loss']"
   ]
  },
  {
   "cell_type": "code",
   "execution_count": null,
   "id": "acb2c4b3",
   "metadata": {},
   "outputs": [],
   "source": [
    "df.groupby(by=params).agg({\"tournament_loss\":\"mean\"}).sort_values(\n",
    "    by=\"tournament_loss\", ascending=True).head(100)"
   ]
  },
  {
   "cell_type": "code",
   "execution_count": null,
   "id": "60cee02c",
   "metadata": {
    "pycharm": {
     "name": "#%%\n"
    }
   },
   "outputs": [],
   "source": [
    "df.groupby(by=params).agg({\"tournament_loss\":\"median\"}).sort_values(\n",
    "    by=\"tournament_loss\", ascending=True).head(100)"
   ]
  },
  {
   "cell_type": "code",
   "execution_count": null,
   "id": "fadc2fc5",
   "metadata": {
    "pycharm": {
     "name": "#%%\n"
    }
   },
   "outputs": [],
   "source": [
    "df.groupby(by=params).agg({\"tournament_loss\":\"min\"}).sort_values(\n",
    "    by=\"tournament_loss\", ascending=True).head(10)"
   ]
  },
  {
   "cell_type": "code",
   "execution_count": null,
   "id": "c884aee1",
   "metadata": {
    "pycharm": {
     "name": "#%%\n"
    }
   },
   "outputs": [],
   "source": []
  },
  {
   "cell_type": "code",
   "execution_count": null,
   "id": "f559cb51",
   "metadata": {},
   "outputs": [],
   "source": []
  },
  {
   "cell_type": "code",
   "execution_count": null,
   "id": "90ac30b0",
   "metadata": {},
   "outputs": [],
   "source": []
  }
 ],
 "metadata": {
  "kernelspec": {
   "display_name": "Python 3 (ipykernel)",
   "language": "python",
   "name": "python3"
  },
  "language_info": {
   "codemirror_mode": {
    "name": "ipython",
    "version": 3
   },
   "file_extension": ".py",
   "mimetype": "text/x-python",
   "name": "python",
   "nbconvert_exporter": "python",
   "pygments_lexer": "ipython3",
   "version": "3.9.7"
  }
 },
 "nbformat": 4,
 "nbformat_minor": 5
}
